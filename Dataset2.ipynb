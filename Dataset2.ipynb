{
 "cells": [
  {
   "cell_type": "code",
   "execution_count": 20,
   "metadata": {},
   "outputs": [
    {
     "data": {
      "text/html": [
       "<div>\n",
       "<style scoped>\n",
       "    .dataframe tbody tr th:only-of-type {\n",
       "        vertical-align: middle;\n",
       "    }\n",
       "\n",
       "    .dataframe tbody tr th {\n",
       "        vertical-align: top;\n",
       "    }\n",
       "\n",
       "    .dataframe thead th {\n",
       "        text-align: right;\n",
       "    }\n",
       "</style>\n",
       "<table border=\"1\" class=\"dataframe\">\n",
       "  <thead>\n",
       "    <tr style=\"text-align: right;\">\n",
       "      <th></th>\n",
       "      <th>request.headers.Host</th>\n",
       "      <th>request.headers.User-Agent</th>\n",
       "      <th>request.headers.Accept-Encoding</th>\n",
       "      <th>request.headers.Accept</th>\n",
       "      <th>request.headers.Connection</th>\n",
       "      <th>request.headers.Accept-Language</th>\n",
       "      <th>request.headers.Sec-Fetch-Site</th>\n",
       "      <th>request.headers.Sec-Fetch-Mode</th>\n",
       "      <th>request.headers.Sec-Fetch-User</th>\n",
       "      <th>request.headers.Sec-Fetch-Dest</th>\n",
       "      <th>request.headers.Set-Cookie</th>\n",
       "      <th>request.headers.Date</th>\n",
       "      <th>request.method</th>\n",
       "      <th>request.url</th>\n",
       "      <th>request.body</th>\n",
       "      <th>response.status</th>\n",
       "      <th>response.headers.Content-Type</th>\n",
       "      <th>response.headers.Content-Length</th>\n",
       "      <th>response.status_code</th>\n",
       "      <th>response.body</th>\n",
       "      <th>response.headers.Location</th>\n",
       "      <th>request.Attack_Tag</th>\n",
       "      <th>request.headers.Cookie</th>\n",
       "      <th>request.headers.Content-Length</th>\n",
       "      <th>response.headers.Set-Cookie</th>\n",
       "    </tr>\n",
       "  </thead>\n",
       "  <tbody>\n",
       "    <tr>\n",
       "      <th>0</th>\n",
       "      <td>127.0.0.1:5000</td>\n",
       "      <td>Mozilla/5.0 (Windows NT 5.1; rv:31.0) Gecko/20...</td>\n",
       "      <td>gzip, deflate, br</td>\n",
       "      <td>*/*</td>\n",
       "      <td>keep-alive</td>\n",
       "      <td>de-CH</td>\n",
       "      <td>none</td>\n",
       "      <td>same-origin</td>\n",
       "      <td>?1</td>\n",
       "      <td>document</td>\n",
       "      <td>['ck=w6oM9XV_jvWjuuVd3hLe3eSdXXPydbyfsLwTlj4Mc...</td>\n",
       "      <td>Fri, 11 Nov 2022 03:12:09 GMT</td>\n",
       "      <td>GET</td>\n",
       "      <td>http://127.0.0.1:5000/static/download_txt/7115</td>\n",
       "      <td></td>\n",
       "      <td>404 NOT FOUND</td>\n",
       "      <td>application/json</td>\n",
       "      <td>32</td>\n",
       "      <td>404</td>\n",
       "      <td>{\"error\": \"File not found\"}</td>\n",
       "      <td>NaN</td>\n",
       "      <td>NaN</td>\n",
       "      <td>NaN</td>\n",
       "      <td>NaN</td>\n",
       "      <td>NaN</td>\n",
       "    </tr>\n",
       "    <tr>\n",
       "      <th>1</th>\n",
       "      <td>127.0.0.1:5000</td>\n",
       "      <td>Mozilla/5.0 (X11; Linux x86_64) AppleWebKit/53...</td>\n",
       "      <td>gzip, deflate, br</td>\n",
       "      <td>*/*</td>\n",
       "      <td>keep-alive</td>\n",
       "      <td>en-US,en;q=0.9,he;q=0.8</td>\n",
       "      <td>none</td>\n",
       "      <td>same-origin</td>\n",
       "      <td>?1</td>\n",
       "      <td>document</td>\n",
       "      <td>['ck=c8uOUXcCTGAn3VPZ7KkmjeGl7T4m7z5hvteH_e4NP...</td>\n",
       "      <td>Fri, 11 Nov 2022 03:01:18 GMT</td>\n",
       "      <td>GET</td>\n",
       "      <td>http://127.0.0.1:5000/about/random_page</td>\n",
       "      <td></td>\n",
       "      <td>200 OK</td>\n",
       "      <td>text/html; charset=utf-8</td>\n",
       "      <td>1163</td>\n",
       "      <td>200</td>\n",
       "      <td>&lt;figure&gt;&lt;img src=\"https://img-c.udemycdn.com/r...</td>\n",
       "      <td>NaN</td>\n",
       "      <td>NaN</td>\n",
       "      <td>NaN</td>\n",
       "      <td>NaN</td>\n",
       "      <td>NaN</td>\n",
       "    </tr>\n",
       "    <tr>\n",
       "      <th>2</th>\n",
       "      <td>127.0.0.1:5000</td>\n",
       "      <td>Mozilla/5.0 (Windows NT 6.1; WOW64; rv:31.0) G...</td>\n",
       "      <td>gzip, deflate, br</td>\n",
       "      <td>*/*</td>\n",
       "      <td>keep-alive</td>\n",
       "      <td>de-CH</td>\n",
       "      <td>none</td>\n",
       "      <td>websocket</td>\n",
       "      <td>?1</td>\n",
       "      <td>document</td>\n",
       "      <td>['ck=RKquq_BCt65ARAQ2BjFcYW58e4Hr_JMvmHA71wfu8...</td>\n",
       "      <td>Fri, 11 Nov 2022 03:01:17 GMT</td>\n",
       "      <td>GET</td>\n",
       "      <td>http://127.0.0.1:5000/categories/check/all</td>\n",
       "      <td></td>\n",
       "      <td>200 OK</td>\n",
       "      <td>application/json</td>\n",
       "      <td>1112</td>\n",
       "      <td>200</td>\n",
       "      <td>[{\"category_id\": \"1\", \"category_name\": \"Bevera...</td>\n",
       "      <td>NaN</td>\n",
       "      <td>NaN</td>\n",
       "      <td>NaN</td>\n",
       "      <td>NaN</td>\n",
       "      <td>NaN</td>\n",
       "    </tr>\n",
       "    <tr>\n",
       "      <th>3</th>\n",
       "      <td>127.0.0.1:5000</td>\n",
       "      <td>Mozilla/5.0 (Macintosh; Intel Mac OS X 10_10_1...</td>\n",
       "      <td>gzip, deflate, br</td>\n",
       "      <td>*/*</td>\n",
       "      <td>keep-alive</td>\n",
       "      <td>en-US,en;q=0.5</td>\n",
       "      <td>none</td>\n",
       "      <td>same-origin</td>\n",
       "      <td>?1</td>\n",
       "      <td>document</td>\n",
       "      <td>['ck=RhHVh7pmM73Qp434tecicojVb27D_OtIVbYPqWaqj...</td>\n",
       "      <td>Fri, 11 Nov 2022 02:40:48 GMT</td>\n",
       "      <td>GET</td>\n",
       "      <td>http://127.0.0.1:5000/states/5911</td>\n",
       "      <td></td>\n",
       "      <td>404 NOT FOUND</td>\n",
       "      <td>application/json</td>\n",
       "      <td>33</td>\n",
       "      <td>404</td>\n",
       "      <td>{\"error\": \"State not found\"}</td>\n",
       "      <td>NaN</td>\n",
       "      <td>NaN</td>\n",
       "      <td>NaN</td>\n",
       "      <td>NaN</td>\n",
       "      <td>NaN</td>\n",
       "    </tr>\n",
       "    <tr>\n",
       "      <th>4</th>\n",
       "      <td>127.0.0.1:5000</td>\n",
       "      <td>Mozilla/5.0 (Windows NT 6.1; WOW64; rv:40.0) G...</td>\n",
       "      <td>gzip, deflate, br</td>\n",
       "      <td>*/*</td>\n",
       "      <td>keep-alive</td>\n",
       "      <td>en-US,en;q=0.9,he;q=0.8</td>\n",
       "      <td>none</td>\n",
       "      <td>websocket</td>\n",
       "      <td>?1</td>\n",
       "      <td>document</td>\n",
       "      <td>['ck=DBFNGnjseloXLj_cxqJe3QTz-J1XS4kaCpMWDl60G...</td>\n",
       "      <td>Fri, 11 Nov 2022 03:05:42 GMT</td>\n",
       "      <td>GET</td>\n",
       "      <td>http://127.0.0.1:5000/orders/get/ship_via/10642</td>\n",
       "      <td></td>\n",
       "      <td>404 NOT FOUND</td>\n",
       "      <td>application/json</td>\n",
       "      <td>36</td>\n",
       "      <td>404</td>\n",
       "      <td>{\"error\": \"Ship VIA not found\"}</td>\n",
       "      <td>NaN</td>\n",
       "      <td>NaN</td>\n",
       "      <td>NaN</td>\n",
       "      <td>NaN</td>\n",
       "      <td>NaN</td>\n",
       "    </tr>\n",
       "  </tbody>\n",
       "</table>\n",
       "</div>"
      ],
      "text/plain": [
       "  request.headers.Host                         request.headers.User-Agent  \\\n",
       "0       127.0.0.1:5000  Mozilla/5.0 (Windows NT 5.1; rv:31.0) Gecko/20...   \n",
       "1       127.0.0.1:5000  Mozilla/5.0 (X11; Linux x86_64) AppleWebKit/53...   \n",
       "2       127.0.0.1:5000  Mozilla/5.0 (Windows NT 6.1; WOW64; rv:31.0) G...   \n",
       "3       127.0.0.1:5000  Mozilla/5.0 (Macintosh; Intel Mac OS X 10_10_1...   \n",
       "4       127.0.0.1:5000  Mozilla/5.0 (Windows NT 6.1; WOW64; rv:40.0) G...   \n",
       "\n",
       "  request.headers.Accept-Encoding request.headers.Accept  \\\n",
       "0               gzip, deflate, br                    */*   \n",
       "1               gzip, deflate, br                    */*   \n",
       "2               gzip, deflate, br                    */*   \n",
       "3               gzip, deflate, br                    */*   \n",
       "4               gzip, deflate, br                    */*   \n",
       "\n",
       "  request.headers.Connection request.headers.Accept-Language  \\\n",
       "0                 keep-alive                           de-CH   \n",
       "1                 keep-alive         en-US,en;q=0.9,he;q=0.8   \n",
       "2                 keep-alive                           de-CH   \n",
       "3                 keep-alive                  en-US,en;q=0.5   \n",
       "4                 keep-alive         en-US,en;q=0.9,he;q=0.8   \n",
       "\n",
       "  request.headers.Sec-Fetch-Site request.headers.Sec-Fetch-Mode  \\\n",
       "0                           none                    same-origin   \n",
       "1                           none                    same-origin   \n",
       "2                           none                      websocket   \n",
       "3                           none                    same-origin   \n",
       "4                           none                      websocket   \n",
       "\n",
       "  request.headers.Sec-Fetch-User request.headers.Sec-Fetch-Dest  \\\n",
       "0                             ?1                       document   \n",
       "1                             ?1                       document   \n",
       "2                             ?1                       document   \n",
       "3                             ?1                       document   \n",
       "4                             ?1                       document   \n",
       "\n",
       "                          request.headers.Set-Cookie  \\\n",
       "0  ['ck=w6oM9XV_jvWjuuVd3hLe3eSdXXPydbyfsLwTlj4Mc...   \n",
       "1  ['ck=c8uOUXcCTGAn3VPZ7KkmjeGl7T4m7z5hvteH_e4NP...   \n",
       "2  ['ck=RKquq_BCt65ARAQ2BjFcYW58e4Hr_JMvmHA71wfu8...   \n",
       "3  ['ck=RhHVh7pmM73Qp434tecicojVb27D_OtIVbYPqWaqj...   \n",
       "4  ['ck=DBFNGnjseloXLj_cxqJe3QTz-J1XS4kaCpMWDl60G...   \n",
       "\n",
       "            request.headers.Date request.method  \\\n",
       "0  Fri, 11 Nov 2022 03:12:09 GMT            GET   \n",
       "1  Fri, 11 Nov 2022 03:01:18 GMT            GET   \n",
       "2  Fri, 11 Nov 2022 03:01:17 GMT            GET   \n",
       "3  Fri, 11 Nov 2022 02:40:48 GMT            GET   \n",
       "4  Fri, 11 Nov 2022 03:05:42 GMT            GET   \n",
       "\n",
       "                                       request.url request.body  \\\n",
       "0   http://127.0.0.1:5000/static/download_txt/7115                \n",
       "1          http://127.0.0.1:5000/about/random_page                \n",
       "2       http://127.0.0.1:5000/categories/check/all                \n",
       "3                http://127.0.0.1:5000/states/5911                \n",
       "4  http://127.0.0.1:5000/orders/get/ship_via/10642                \n",
       "\n",
       "  response.status response.headers.Content-Type  \\\n",
       "0   404 NOT FOUND              application/json   \n",
       "1          200 OK      text/html; charset=utf-8   \n",
       "2          200 OK              application/json   \n",
       "3   404 NOT FOUND              application/json   \n",
       "4   404 NOT FOUND              application/json   \n",
       "\n",
       "  response.headers.Content-Length  response.status_code  \\\n",
       "0                              32                   404   \n",
       "1                            1163                   200   \n",
       "2                            1112                   200   \n",
       "3                              33                   404   \n",
       "4                              36                   404   \n",
       "\n",
       "                                       response.body  \\\n",
       "0                        {\"error\": \"File not found\"}   \n",
       "1  <figure><img src=\"https://img-c.udemycdn.com/r...   \n",
       "2  [{\"category_id\": \"1\", \"category_name\": \"Bevera...   \n",
       "3                       {\"error\": \"State not found\"}   \n",
       "4                    {\"error\": \"Ship VIA not found\"}   \n",
       "\n",
       "  response.headers.Location request.Attack_Tag request.headers.Cookie  \\\n",
       "0                       NaN                NaN                    NaN   \n",
       "1                       NaN                NaN                    NaN   \n",
       "2                       NaN                NaN                    NaN   \n",
       "3                       NaN                NaN                    NaN   \n",
       "4                       NaN                NaN                    NaN   \n",
       "\n",
       "  request.headers.Content-Length response.headers.Set-Cookie  \n",
       "0                            NaN                         NaN  \n",
       "1                            NaN                         NaN  \n",
       "2                            NaN                         NaN  \n",
       "3                            NaN                         NaN  \n",
       "4                            NaN                         NaN  "
      ]
     },
     "execution_count": 20,
     "metadata": {},
     "output_type": "execute_result"
    }
   ],
   "source": [
    "# Imports, settings and first dataset view\n",
    "import pandas as pd\n",
    "import seaborn as sns\n",
    "import numpy as np\n",
    "import json\n",
    "\n",
    "from sklearn.feature_extraction.text import CountVectorizer, HashingVectorizer\n",
    "from sklearn.preprocessing import LabelEncoder\n",
    "from sklearn.model_selection import train_test_split\n",
    "from sklearn.ensemble import RandomForestClassifier\n",
    "from sklearn.metrics import confusion_matrix, classification_report\n",
    "from collections import Counter\n",
    "import matplotlib.pyplot as plt\n",
    "\n",
    "# Set pandas to show all columns when you print a dataframe\n",
    "pd.set_option('display.max_columns', None)\n",
    "\n",
    "# Global setting here you choose the dataset number and classification type for the model\n",
    "dataset_number = 2 # Options are [1, 2, 3, 4]\n",
    "test_type = 'label' # Options are ['label', 'attack_type']\n",
    "\n",
    "# Read the json and read it to a pandas dataframe object, you can change these settings\n",
    "with open(f'./dataset_{str(dataset_number)}_train.json') as file:\n",
    "    raw_ds = json.load(file)\n",
    "df = pd.json_normalize(raw_ds, max_level=2)\n",
    "\n",
    "# Shoe the first five lines of the dataframe to see if everything was read accordingly \n",
    "df.head()"
   ]
  },
  {
   "cell_type": "markdown",
   "metadata": {},
   "source": [
    "### Basic dataset label arrangements"
   ]
  },
  {
   "cell_type": "code",
   "execution_count": 21,
   "metadata": {},
   "outputs": [
    {
     "data": {
      "text/html": [
       "<div>\n",
       "<style scoped>\n",
       "    .dataframe tbody tr th:only-of-type {\n",
       "        vertical-align: middle;\n",
       "    }\n",
       "\n",
       "    .dataframe tbody tr th {\n",
       "        vertical-align: top;\n",
       "    }\n",
       "\n",
       "    .dataframe thead th {\n",
       "        text-align: right;\n",
       "    }\n",
       "</style>\n",
       "<table border=\"1\" class=\"dataframe\">\n",
       "  <thead>\n",
       "    <tr style=\"text-align: right;\">\n",
       "      <th></th>\n",
       "      <th>request.headers.Host</th>\n",
       "      <th>request.headers.User-Agent</th>\n",
       "      <th>request.headers.Accept-Encoding</th>\n",
       "      <th>request.headers.Accept</th>\n",
       "      <th>request.headers.Connection</th>\n",
       "      <th>request.headers.Accept-Language</th>\n",
       "      <th>request.headers.Sec-Fetch-Site</th>\n",
       "      <th>request.headers.Sec-Fetch-Mode</th>\n",
       "      <th>request.headers.Sec-Fetch-User</th>\n",
       "      <th>request.headers.Sec-Fetch-Dest</th>\n",
       "      <th>request.headers.Set-Cookie</th>\n",
       "      <th>request.headers.Date</th>\n",
       "      <th>request.method</th>\n",
       "      <th>request.url</th>\n",
       "      <th>request.body</th>\n",
       "      <th>response.status</th>\n",
       "      <th>response.headers.Content-Type</th>\n",
       "      <th>response.headers.Content-Length</th>\n",
       "      <th>response.status_code</th>\n",
       "      <th>response.body</th>\n",
       "      <th>response.headers.Location</th>\n",
       "      <th>request.headers.Cookie</th>\n",
       "      <th>request.headers.Content-Length</th>\n",
       "      <th>response.headers.Set-Cookie</th>\n",
       "      <th>attack_type</th>\n",
       "      <th>label</th>\n",
       "    </tr>\n",
       "  </thead>\n",
       "  <tbody>\n",
       "    <tr>\n",
       "      <th>0</th>\n",
       "      <td>127.0.0.1:5000</td>\n",
       "      <td>Mozilla/5.0 (Windows NT 5.1; rv:31.0) Gecko/20...</td>\n",
       "      <td>gzip, deflate, br</td>\n",
       "      <td>*/*</td>\n",
       "      <td>keep-alive</td>\n",
       "      <td>de-CH</td>\n",
       "      <td>none</td>\n",
       "      <td>same-origin</td>\n",
       "      <td>?1</td>\n",
       "      <td>document</td>\n",
       "      <td>['ck=w6oM9XV_jvWjuuVd3hLe3eSdXXPydbyfsLwTlj4Mc...</td>\n",
       "      <td>Fri, 11 Nov 2022 03:12:09 GMT</td>\n",
       "      <td>GET</td>\n",
       "      <td>http://127.0.0.1:5000/static/download_txt/7115</td>\n",
       "      <td></td>\n",
       "      <td>404 NOT FOUND</td>\n",
       "      <td>application/json</td>\n",
       "      <td>32</td>\n",
       "      <td>404</td>\n",
       "      <td>{\"error\": \"File not found\"}</td>\n",
       "      <td>NaN</td>\n",
       "      <td>NaN</td>\n",
       "      <td>NaN</td>\n",
       "      <td>NaN</td>\n",
       "      <td>Benign</td>\n",
       "      <td>Benign</td>\n",
       "    </tr>\n",
       "    <tr>\n",
       "      <th>1</th>\n",
       "      <td>127.0.0.1:5000</td>\n",
       "      <td>Mozilla/5.0 (X11; Linux x86_64) AppleWebKit/53...</td>\n",
       "      <td>gzip, deflate, br</td>\n",
       "      <td>*/*</td>\n",
       "      <td>keep-alive</td>\n",
       "      <td>en-US,en;q=0.9,he;q=0.8</td>\n",
       "      <td>none</td>\n",
       "      <td>same-origin</td>\n",
       "      <td>?1</td>\n",
       "      <td>document</td>\n",
       "      <td>['ck=c8uOUXcCTGAn3VPZ7KkmjeGl7T4m7z5hvteH_e4NP...</td>\n",
       "      <td>Fri, 11 Nov 2022 03:01:18 GMT</td>\n",
       "      <td>GET</td>\n",
       "      <td>http://127.0.0.1:5000/about/random_page</td>\n",
       "      <td></td>\n",
       "      <td>200 OK</td>\n",
       "      <td>text/html; charset=utf-8</td>\n",
       "      <td>1163</td>\n",
       "      <td>200</td>\n",
       "      <td>&lt;figure&gt;&lt;img src=\"https://img-c.udemycdn.com/r...</td>\n",
       "      <td>NaN</td>\n",
       "      <td>NaN</td>\n",
       "      <td>NaN</td>\n",
       "      <td>NaN</td>\n",
       "      <td>Benign</td>\n",
       "      <td>Benign</td>\n",
       "    </tr>\n",
       "    <tr>\n",
       "      <th>2</th>\n",
       "      <td>127.0.0.1:5000</td>\n",
       "      <td>Mozilla/5.0 (Windows NT 6.1; WOW64; rv:31.0) G...</td>\n",
       "      <td>gzip, deflate, br</td>\n",
       "      <td>*/*</td>\n",
       "      <td>keep-alive</td>\n",
       "      <td>de-CH</td>\n",
       "      <td>none</td>\n",
       "      <td>websocket</td>\n",
       "      <td>?1</td>\n",
       "      <td>document</td>\n",
       "      <td>['ck=RKquq_BCt65ARAQ2BjFcYW58e4Hr_JMvmHA71wfu8...</td>\n",
       "      <td>Fri, 11 Nov 2022 03:01:17 GMT</td>\n",
       "      <td>GET</td>\n",
       "      <td>http://127.0.0.1:5000/categories/check/all</td>\n",
       "      <td></td>\n",
       "      <td>200 OK</td>\n",
       "      <td>application/json</td>\n",
       "      <td>1112</td>\n",
       "      <td>200</td>\n",
       "      <td>[{\"category_id\": \"1\", \"category_name\": \"Bevera...</td>\n",
       "      <td>NaN</td>\n",
       "      <td>NaN</td>\n",
       "      <td>NaN</td>\n",
       "      <td>NaN</td>\n",
       "      <td>Benign</td>\n",
       "      <td>Benign</td>\n",
       "    </tr>\n",
       "    <tr>\n",
       "      <th>3</th>\n",
       "      <td>127.0.0.1:5000</td>\n",
       "      <td>Mozilla/5.0 (Macintosh; Intel Mac OS X 10_10_1...</td>\n",
       "      <td>gzip, deflate, br</td>\n",
       "      <td>*/*</td>\n",
       "      <td>keep-alive</td>\n",
       "      <td>en-US,en;q=0.5</td>\n",
       "      <td>none</td>\n",
       "      <td>same-origin</td>\n",
       "      <td>?1</td>\n",
       "      <td>document</td>\n",
       "      <td>['ck=RhHVh7pmM73Qp434tecicojVb27D_OtIVbYPqWaqj...</td>\n",
       "      <td>Fri, 11 Nov 2022 02:40:48 GMT</td>\n",
       "      <td>GET</td>\n",
       "      <td>http://127.0.0.1:5000/states/5911</td>\n",
       "      <td></td>\n",
       "      <td>404 NOT FOUND</td>\n",
       "      <td>application/json</td>\n",
       "      <td>33</td>\n",
       "      <td>404</td>\n",
       "      <td>{\"error\": \"State not found\"}</td>\n",
       "      <td>NaN</td>\n",
       "      <td>NaN</td>\n",
       "      <td>NaN</td>\n",
       "      <td>NaN</td>\n",
       "      <td>Benign</td>\n",
       "      <td>Benign</td>\n",
       "    </tr>\n",
       "    <tr>\n",
       "      <th>4</th>\n",
       "      <td>127.0.0.1:5000</td>\n",
       "      <td>Mozilla/5.0 (Windows NT 6.1; WOW64; rv:40.0) G...</td>\n",
       "      <td>gzip, deflate, br</td>\n",
       "      <td>*/*</td>\n",
       "      <td>keep-alive</td>\n",
       "      <td>en-US,en;q=0.9,he;q=0.8</td>\n",
       "      <td>none</td>\n",
       "      <td>websocket</td>\n",
       "      <td>?1</td>\n",
       "      <td>document</td>\n",
       "      <td>['ck=DBFNGnjseloXLj_cxqJe3QTz-J1XS4kaCpMWDl60G...</td>\n",
       "      <td>Fri, 11 Nov 2022 03:05:42 GMT</td>\n",
       "      <td>GET</td>\n",
       "      <td>http://127.0.0.1:5000/orders/get/ship_via/10642</td>\n",
       "      <td></td>\n",
       "      <td>404 NOT FOUND</td>\n",
       "      <td>application/json</td>\n",
       "      <td>36</td>\n",
       "      <td>404</td>\n",
       "      <td>{\"error\": \"Ship VIA not found\"}</td>\n",
       "      <td>NaN</td>\n",
       "      <td>NaN</td>\n",
       "      <td>NaN</td>\n",
       "      <td>NaN</td>\n",
       "      <td>Benign</td>\n",
       "      <td>Benign</td>\n",
       "    </tr>\n",
       "    <tr>\n",
       "      <th>...</th>\n",
       "      <td>...</td>\n",
       "      <td>...</td>\n",
       "      <td>...</td>\n",
       "      <td>...</td>\n",
       "      <td>...</td>\n",
       "      <td>...</td>\n",
       "      <td>...</td>\n",
       "      <td>...</td>\n",
       "      <td>...</td>\n",
       "      <td>...</td>\n",
       "      <td>...</td>\n",
       "      <td>...</td>\n",
       "      <td>...</td>\n",
       "      <td>...</td>\n",
       "      <td>...</td>\n",
       "      <td>...</td>\n",
       "      <td>...</td>\n",
       "      <td>...</td>\n",
       "      <td>...</td>\n",
       "      <td>...</td>\n",
       "      <td>...</td>\n",
       "      <td>...</td>\n",
       "      <td>...</td>\n",
       "      <td>...</td>\n",
       "      <td>...</td>\n",
       "      <td>...</td>\n",
       "    </tr>\n",
       "    <tr>\n",
       "      <th>127495</th>\n",
       "      <td>127.0.0.1:5000</td>\n",
       "      <td>Mozilla/5.0 (Windows NT 6.1; WOW64) AppleWebKi...</td>\n",
       "      <td>gzip, deflate, br</td>\n",
       "      <td>*/*</td>\n",
       "      <td>keep-alive</td>\n",
       "      <td>en-US,en;q=0.5</td>\n",
       "      <td>none</td>\n",
       "      <td>websocket</td>\n",
       "      <td>?1</td>\n",
       "      <td>document</td>\n",
       "      <td>['ck=ubWnuAa4wIHnDTz0Su8AYWJAM7fUMCps6AxyNzFok...</td>\n",
       "      <td>Fri, 11 Nov 2022 02:57:49 GMT</td>\n",
       "      <td>GET</td>\n",
       "      <td>http://127.0.0.1:5000/orders/get/employee_id/5482</td>\n",
       "      <td></td>\n",
       "      <td>404 NOT FOUND</td>\n",
       "      <td>application/json</td>\n",
       "      <td>39</td>\n",
       "      <td>404</td>\n",
       "      <td>{\"error\": \"Employee ID not found\"}</td>\n",
       "      <td>NaN</td>\n",
       "      <td>NaN</td>\n",
       "      <td>NaN</td>\n",
       "      <td>NaN</td>\n",
       "      <td>Benign</td>\n",
       "      <td>Benign</td>\n",
       "    </tr>\n",
       "    <tr>\n",
       "      <th>127496</th>\n",
       "      <td>127.0.0.1:5000</td>\n",
       "      <td>Mozilla/5.0 (Windows NT 6.1; WOW64; rv:40.0) G...</td>\n",
       "      <td>gzip, deflate, br</td>\n",
       "      <td>*/*</td>\n",
       "      <td>keep-alive</td>\n",
       "      <td>de</td>\n",
       "      <td>none</td>\n",
       "      <td>websocket</td>\n",
       "      <td>?1</td>\n",
       "      <td>document</td>\n",
       "      <td>['ck=SkLWkaUE83sP38c3kf-XYBCKlSlSmBTQSEJw6EaMg...</td>\n",
       "      <td>Fri, 11 Nov 2022 02:56:21 GMT</td>\n",
       "      <td>GET</td>\n",
       "      <td>http://127.0.0.1:5000/post/new/</td>\n",
       "      <td></td>\n",
       "      <td>200 OK</td>\n",
       "      <td>text/html; charset=utf-8</td>\n",
       "      <td>70</td>\n",
       "      <td>200</td>\n",
       "      <td>&lt;form method='POST'&gt;&lt;input name='message'&gt;&lt;inp...</td>\n",
       "      <td>NaN</td>\n",
       "      <td>NaN</td>\n",
       "      <td>NaN</td>\n",
       "      <td>NaN</td>\n",
       "      <td>Benign</td>\n",
       "      <td>Benign</td>\n",
       "    </tr>\n",
       "    <tr>\n",
       "      <th>127497</th>\n",
       "      <td>127.0.0.1:5000</td>\n",
       "      <td>Mozilla/5.0 (Windows NT 6.1; Win64; x64; rv:25...</td>\n",
       "      <td>gzip, deflate, br</td>\n",
       "      <td>*/*</td>\n",
       "      <td>keep-alive</td>\n",
       "      <td>de</td>\n",
       "      <td>none</td>\n",
       "      <td>websocket</td>\n",
       "      <td>?1</td>\n",
       "      <td>document</td>\n",
       "      <td>['ck=giYaDJkC2Oa-rCmlAvYglQzy_Em-YHTv_5aOjposX...</td>\n",
       "      <td>Fri, 11 Nov 2022 02:49:37 GMT</td>\n",
       "      <td>GET</td>\n",
       "      <td>http://127.0.0.1:5000/post/new/</td>\n",
       "      <td></td>\n",
       "      <td>200 OK</td>\n",
       "      <td>text/html; charset=utf-8</td>\n",
       "      <td>70</td>\n",
       "      <td>200</td>\n",
       "      <td>&lt;form method='POST'&gt;&lt;input name='message'&gt;&lt;inp...</td>\n",
       "      <td>NaN</td>\n",
       "      <td>NaN</td>\n",
       "      <td>NaN</td>\n",
       "      <td>NaN</td>\n",
       "      <td>Benign</td>\n",
       "      <td>Benign</td>\n",
       "    </tr>\n",
       "    <tr>\n",
       "      <th>127498</th>\n",
       "      <td>127.0.0.1:5000</td>\n",
       "      <td>Mozilla/5.0 (X11; Ubuntu; Linux x86_64; rv:24....</td>\n",
       "      <td>gzip, deflate, br</td>\n",
       "      <td>*/*</td>\n",
       "      <td>keep-alive</td>\n",
       "      <td>de-CH</td>\n",
       "      <td>none</td>\n",
       "      <td>websocket</td>\n",
       "      <td>?1</td>\n",
       "      <td>document</td>\n",
       "      <td>['ck=VzOU9Ac91LxJ8UAvQ8Wt3c5Ua-30j4s9kcdTKrwCw...</td>\n",
       "      <td>Fri, 11 Nov 2022 02:47:43 GMT</td>\n",
       "      <td>GET</td>\n",
       "      <td>http://127.0.0.1:5000/orders/get/country/8599</td>\n",
       "      <td></td>\n",
       "      <td>404 NOT FOUND</td>\n",
       "      <td>text/html; charset=utf-8</td>\n",
       "      <td>207</td>\n",
       "      <td>404</td>\n",
       "      <td>&lt;!doctype html&gt;\\n&lt;html lang=en&gt;\\n&lt;title&gt;404 No...</td>\n",
       "      <td>NaN</td>\n",
       "      <td>NaN</td>\n",
       "      <td>NaN</td>\n",
       "      <td>NaN</td>\n",
       "      <td>Benign</td>\n",
       "      <td>Benign</td>\n",
       "    </tr>\n",
       "    <tr>\n",
       "      <th>127499</th>\n",
       "      <td>127.0.0.1:5000</td>\n",
       "      <td>Mozilla/5.0 (X11; Ubuntu; Linux x86_64; rv:24....</td>\n",
       "      <td>gzip, deflate, br</td>\n",
       "      <td>*/*</td>\n",
       "      <td>keep-alive</td>\n",
       "      <td>de-CH</td>\n",
       "      <td>none</td>\n",
       "      <td>same-origin</td>\n",
       "      <td>?1</td>\n",
       "      <td>document</td>\n",
       "      <td>['ck=0w5tjJLrrO3gkGZJQTSj2ryTjSiI2Dv-VPIdQfN1N...</td>\n",
       "      <td>Fri, 11 Nov 2022 03:10:46 GMT</td>\n",
       "      <td>GET</td>\n",
       "      <td>http://127.0.0.1:5000/about/greet</td>\n",
       "      <td></td>\n",
       "      <td>200 OK</td>\n",
       "      <td>text/html; charset=utf-8</td>\n",
       "      <td>350</td>\n",
       "      <td>200</td>\n",
       "      <td>&lt;p&gt;To start the challenge, first head over to ...</td>\n",
       "      <td>NaN</td>\n",
       "      <td>NaN</td>\n",
       "      <td>NaN</td>\n",
       "      <td>NaN</td>\n",
       "      <td>Benign</td>\n",
       "      <td>Benign</td>\n",
       "    </tr>\n",
       "  </tbody>\n",
       "</table>\n",
       "<p>127500 rows × 26 columns</p>\n",
       "</div>"
      ],
      "text/plain": [
       "       request.headers.Host  \\\n",
       "0            127.0.0.1:5000   \n",
       "1            127.0.0.1:5000   \n",
       "2            127.0.0.1:5000   \n",
       "3            127.0.0.1:5000   \n",
       "4            127.0.0.1:5000   \n",
       "...                     ...   \n",
       "127495       127.0.0.1:5000   \n",
       "127496       127.0.0.1:5000   \n",
       "127497       127.0.0.1:5000   \n",
       "127498       127.0.0.1:5000   \n",
       "127499       127.0.0.1:5000   \n",
       "\n",
       "                               request.headers.User-Agent  \\\n",
       "0       Mozilla/5.0 (Windows NT 5.1; rv:31.0) Gecko/20...   \n",
       "1       Mozilla/5.0 (X11; Linux x86_64) AppleWebKit/53...   \n",
       "2       Mozilla/5.0 (Windows NT 6.1; WOW64; rv:31.0) G...   \n",
       "3       Mozilla/5.0 (Macintosh; Intel Mac OS X 10_10_1...   \n",
       "4       Mozilla/5.0 (Windows NT 6.1; WOW64; rv:40.0) G...   \n",
       "...                                                   ...   \n",
       "127495  Mozilla/5.0 (Windows NT 6.1; WOW64) AppleWebKi...   \n",
       "127496  Mozilla/5.0 (Windows NT 6.1; WOW64; rv:40.0) G...   \n",
       "127497  Mozilla/5.0 (Windows NT 6.1; Win64; x64; rv:25...   \n",
       "127498  Mozilla/5.0 (X11; Ubuntu; Linux x86_64; rv:24....   \n",
       "127499  Mozilla/5.0 (X11; Ubuntu; Linux x86_64; rv:24....   \n",
       "\n",
       "       request.headers.Accept-Encoding request.headers.Accept  \\\n",
       "0                    gzip, deflate, br                    */*   \n",
       "1                    gzip, deflate, br                    */*   \n",
       "2                    gzip, deflate, br                    */*   \n",
       "3                    gzip, deflate, br                    */*   \n",
       "4                    gzip, deflate, br                    */*   \n",
       "...                                ...                    ...   \n",
       "127495               gzip, deflate, br                    */*   \n",
       "127496               gzip, deflate, br                    */*   \n",
       "127497               gzip, deflate, br                    */*   \n",
       "127498               gzip, deflate, br                    */*   \n",
       "127499               gzip, deflate, br                    */*   \n",
       "\n",
       "       request.headers.Connection request.headers.Accept-Language  \\\n",
       "0                      keep-alive                           de-CH   \n",
       "1                      keep-alive         en-US,en;q=0.9,he;q=0.8   \n",
       "2                      keep-alive                           de-CH   \n",
       "3                      keep-alive                  en-US,en;q=0.5   \n",
       "4                      keep-alive         en-US,en;q=0.9,he;q=0.8   \n",
       "...                           ...                             ...   \n",
       "127495                 keep-alive                  en-US,en;q=0.5   \n",
       "127496                 keep-alive                              de   \n",
       "127497                 keep-alive                              de   \n",
       "127498                 keep-alive                           de-CH   \n",
       "127499                 keep-alive                           de-CH   \n",
       "\n",
       "       request.headers.Sec-Fetch-Site request.headers.Sec-Fetch-Mode  \\\n",
       "0                                none                    same-origin   \n",
       "1                                none                    same-origin   \n",
       "2                                none                      websocket   \n",
       "3                                none                    same-origin   \n",
       "4                                none                      websocket   \n",
       "...                               ...                            ...   \n",
       "127495                           none                      websocket   \n",
       "127496                           none                      websocket   \n",
       "127497                           none                      websocket   \n",
       "127498                           none                      websocket   \n",
       "127499                           none                    same-origin   \n",
       "\n",
       "       request.headers.Sec-Fetch-User request.headers.Sec-Fetch-Dest  \\\n",
       "0                                  ?1                       document   \n",
       "1                                  ?1                       document   \n",
       "2                                  ?1                       document   \n",
       "3                                  ?1                       document   \n",
       "4                                  ?1                       document   \n",
       "...                               ...                            ...   \n",
       "127495                             ?1                       document   \n",
       "127496                             ?1                       document   \n",
       "127497                             ?1                       document   \n",
       "127498                             ?1                       document   \n",
       "127499                             ?1                       document   \n",
       "\n",
       "                               request.headers.Set-Cookie  \\\n",
       "0       ['ck=w6oM9XV_jvWjuuVd3hLe3eSdXXPydbyfsLwTlj4Mc...   \n",
       "1       ['ck=c8uOUXcCTGAn3VPZ7KkmjeGl7T4m7z5hvteH_e4NP...   \n",
       "2       ['ck=RKquq_BCt65ARAQ2BjFcYW58e4Hr_JMvmHA71wfu8...   \n",
       "3       ['ck=RhHVh7pmM73Qp434tecicojVb27D_OtIVbYPqWaqj...   \n",
       "4       ['ck=DBFNGnjseloXLj_cxqJe3QTz-J1XS4kaCpMWDl60G...   \n",
       "...                                                   ...   \n",
       "127495  ['ck=ubWnuAa4wIHnDTz0Su8AYWJAM7fUMCps6AxyNzFok...   \n",
       "127496  ['ck=SkLWkaUE83sP38c3kf-XYBCKlSlSmBTQSEJw6EaMg...   \n",
       "127497  ['ck=giYaDJkC2Oa-rCmlAvYglQzy_Em-YHTv_5aOjposX...   \n",
       "127498  ['ck=VzOU9Ac91LxJ8UAvQ8Wt3c5Ua-30j4s9kcdTKrwCw...   \n",
       "127499  ['ck=0w5tjJLrrO3gkGZJQTSj2ryTjSiI2Dv-VPIdQfN1N...   \n",
       "\n",
       "                 request.headers.Date request.method  \\\n",
       "0       Fri, 11 Nov 2022 03:12:09 GMT            GET   \n",
       "1       Fri, 11 Nov 2022 03:01:18 GMT            GET   \n",
       "2       Fri, 11 Nov 2022 03:01:17 GMT            GET   \n",
       "3       Fri, 11 Nov 2022 02:40:48 GMT            GET   \n",
       "4       Fri, 11 Nov 2022 03:05:42 GMT            GET   \n",
       "...                               ...            ...   \n",
       "127495  Fri, 11 Nov 2022 02:57:49 GMT            GET   \n",
       "127496  Fri, 11 Nov 2022 02:56:21 GMT            GET   \n",
       "127497  Fri, 11 Nov 2022 02:49:37 GMT            GET   \n",
       "127498  Fri, 11 Nov 2022 02:47:43 GMT            GET   \n",
       "127499  Fri, 11 Nov 2022 03:10:46 GMT            GET   \n",
       "\n",
       "                                              request.url request.body  \\\n",
       "0          http://127.0.0.1:5000/static/download_txt/7115                \n",
       "1                 http://127.0.0.1:5000/about/random_page                \n",
       "2              http://127.0.0.1:5000/categories/check/all                \n",
       "3                       http://127.0.0.1:5000/states/5911                \n",
       "4         http://127.0.0.1:5000/orders/get/ship_via/10642                \n",
       "...                                                   ...          ...   \n",
       "127495  http://127.0.0.1:5000/orders/get/employee_id/5482                \n",
       "127496                    http://127.0.0.1:5000/post/new/                \n",
       "127497                    http://127.0.0.1:5000/post/new/                \n",
       "127498      http://127.0.0.1:5000/orders/get/country/8599                \n",
       "127499                  http://127.0.0.1:5000/about/greet                \n",
       "\n",
       "       response.status response.headers.Content-Type  \\\n",
       "0        404 NOT FOUND              application/json   \n",
       "1               200 OK      text/html; charset=utf-8   \n",
       "2               200 OK              application/json   \n",
       "3        404 NOT FOUND              application/json   \n",
       "4        404 NOT FOUND              application/json   \n",
       "...                ...                           ...   \n",
       "127495   404 NOT FOUND              application/json   \n",
       "127496          200 OK      text/html; charset=utf-8   \n",
       "127497          200 OK      text/html; charset=utf-8   \n",
       "127498   404 NOT FOUND      text/html; charset=utf-8   \n",
       "127499          200 OK      text/html; charset=utf-8   \n",
       "\n",
       "       response.headers.Content-Length  response.status_code  \\\n",
       "0                                   32                   404   \n",
       "1                                 1163                   200   \n",
       "2                                 1112                   200   \n",
       "3                                   33                   404   \n",
       "4                                   36                   404   \n",
       "...                                ...                   ...   \n",
       "127495                              39                   404   \n",
       "127496                              70                   200   \n",
       "127497                              70                   200   \n",
       "127498                             207                   404   \n",
       "127499                             350                   200   \n",
       "\n",
       "                                            response.body  \\\n",
       "0                             {\"error\": \"File not found\"}   \n",
       "1       <figure><img src=\"https://img-c.udemycdn.com/r...   \n",
       "2       [{\"category_id\": \"1\", \"category_name\": \"Bevera...   \n",
       "3                            {\"error\": \"State not found\"}   \n",
       "4                         {\"error\": \"Ship VIA not found\"}   \n",
       "...                                                   ...   \n",
       "127495                 {\"error\": \"Employee ID not found\"}   \n",
       "127496  <form method='POST'><input name='message'><inp...   \n",
       "127497  <form method='POST'><input name='message'><inp...   \n",
       "127498  <!doctype html>\\n<html lang=en>\\n<title>404 No...   \n",
       "127499  <p>To start the challenge, first head over to ...   \n",
       "\n",
       "       response.headers.Location request.headers.Cookie  \\\n",
       "0                            NaN                    NaN   \n",
       "1                            NaN                    NaN   \n",
       "2                            NaN                    NaN   \n",
       "3                            NaN                    NaN   \n",
       "4                            NaN                    NaN   \n",
       "...                          ...                    ...   \n",
       "127495                       NaN                    NaN   \n",
       "127496                       NaN                    NaN   \n",
       "127497                       NaN                    NaN   \n",
       "127498                       NaN                    NaN   \n",
       "127499                       NaN                    NaN   \n",
       "\n",
       "       request.headers.Content-Length response.headers.Set-Cookie attack_type  \\\n",
       "0                                 NaN                         NaN      Benign   \n",
       "1                                 NaN                         NaN      Benign   \n",
       "2                                 NaN                         NaN      Benign   \n",
       "3                                 NaN                         NaN      Benign   \n",
       "4                                 NaN                         NaN      Benign   \n",
       "...                               ...                         ...         ...   \n",
       "127495                            NaN                         NaN      Benign   \n",
       "127496                            NaN                         NaN      Benign   \n",
       "127497                            NaN                         NaN      Benign   \n",
       "127498                            NaN                         NaN      Benign   \n",
       "127499                            NaN                         NaN      Benign   \n",
       "\n",
       "         label  \n",
       "0       Benign  \n",
       "1       Benign  \n",
       "2       Benign  \n",
       "3       Benign  \n",
       "4       Benign  \n",
       "...        ...  \n",
       "127495  Benign  \n",
       "127496  Benign  \n",
       "127497  Benign  \n",
       "127498  Benign  \n",
       "127499  Benign  \n",
       "\n",
       "[127500 rows x 26 columns]"
      ]
     },
     "execution_count": 21,
     "metadata": {},
     "output_type": "execute_result"
    }
   ],
   "source": [
    "# Fill the black attack tag lines with \"Benign\" string\n",
    "df['request.Attack_Tag'] = df['request.Attack_Tag'].fillna('Benign')\n",
    "df['attack_type'] = df['request.Attack_Tag']\n",
    "\n",
    "# This function will be used in the lambda below to iterate over the label columns \n",
    "# You can use this snippet to run your own lambda on any data with the apply() method\n",
    "def categorize(row):  \n",
    "    if row['request.Attack_Tag'] == 'Benign':\n",
    "        return 'Benign'\n",
    "    return 'Malware'\n",
    "\n",
    "df['label'] = df.apply(lambda row: categorize(row), axis=1)\n",
    "\n",
    "# After finishing the arrangements we delete the irrelevant column\n",
    "df.drop('request.Attack_Tag', axis=1, inplace=True)\n",
    "\n",
    "df"
   ]
  },
  {
   "cell_type": "code",
   "execution_count": 22,
   "metadata": {},
   "outputs": [
    {
     "data": {
      "text/html": [
       "<div>\n",
       "<style scoped>\n",
       "    .dataframe tbody tr th:only-of-type {\n",
       "        vertical-align: middle;\n",
       "    }\n",
       "\n",
       "    .dataframe tbody tr th {\n",
       "        vertical-align: top;\n",
       "    }\n",
       "\n",
       "    .dataframe thead th {\n",
       "        text-align: right;\n",
       "    }\n",
       "</style>\n",
       "<table border=\"1\" class=\"dataframe\">\n",
       "  <thead>\n",
       "    <tr style=\"text-align: right;\">\n",
       "      <th></th>\n",
       "      <th>request.headers.Host</th>\n",
       "      <th>request.headers.User-Agent</th>\n",
       "      <th>request.headers.Accept-Encoding</th>\n",
       "      <th>request.headers.Accept</th>\n",
       "      <th>request.headers.Connection</th>\n",
       "      <th>request.headers.Accept-Language</th>\n",
       "      <th>request.headers.Sec-Fetch-Site</th>\n",
       "      <th>request.headers.Sec-Fetch-Mode</th>\n",
       "      <th>request.headers.Sec-Fetch-User</th>\n",
       "      <th>request.headers.Sec-Fetch-Dest</th>\n",
       "      <th>request.headers.Set-Cookie</th>\n",
       "      <th>request.headers.Date</th>\n",
       "      <th>request.method</th>\n",
       "      <th>request.url</th>\n",
       "      <th>request.body</th>\n",
       "      <th>response.status</th>\n",
       "      <th>response.headers.Content-Type</th>\n",
       "      <th>response.headers.Content-Length</th>\n",
       "      <th>response.status_code</th>\n",
       "      <th>response.body</th>\n",
       "      <th>response.headers.Location</th>\n",
       "      <th>request.headers.Cookie</th>\n",
       "      <th>request.headers.Content-Length</th>\n",
       "      <th>response.headers.Set-Cookie</th>\n",
       "      <th>attack_type</th>\n",
       "      <th>label</th>\n",
       "    </tr>\n",
       "  </thead>\n",
       "  <tbody>\n",
       "    <tr>\n",
       "      <th>0</th>\n",
       "      <td>127.0.0.1:5000</td>\n",
       "      <td>Mozilla/5.0 (Windows NT 5.1; rv:31.0) Gecko/20...</td>\n",
       "      <td>gzip, deflate, br</td>\n",
       "      <td>*/*</td>\n",
       "      <td>keep-alive</td>\n",
       "      <td>de-CH</td>\n",
       "      <td>none</td>\n",
       "      <td>same-origin</td>\n",
       "      <td>?1</td>\n",
       "      <td>document</td>\n",
       "      <td>['ck=w6oM9XV_jvWjuuVd3hLe3eSdXXPydbyfsLwTlj4Mc...</td>\n",
       "      <td>Fri, 11 Nov 2022 03:12:09 GMT</td>\n",
       "      <td>GET</td>\n",
       "      <td>http://127.0.0.1:5000/static/download_txt/7115</td>\n",
       "      <td></td>\n",
       "      <td>404 NOT FOUND</td>\n",
       "      <td>application/json</td>\n",
       "      <td>32</td>\n",
       "      <td>404</td>\n",
       "      <td>{\"error\": \"File not found\"}</td>\n",
       "      <td>None</td>\n",
       "      <td>None</td>\n",
       "      <td>None</td>\n",
       "      <td>None</td>\n",
       "      <td>Benign</td>\n",
       "      <td>Benign</td>\n",
       "    </tr>\n",
       "    <tr>\n",
       "      <th>1</th>\n",
       "      <td>127.0.0.1:5000</td>\n",
       "      <td>Mozilla/5.0 (X11; Linux x86_64) AppleWebKit/53...</td>\n",
       "      <td>gzip, deflate, br</td>\n",
       "      <td>*/*</td>\n",
       "      <td>keep-alive</td>\n",
       "      <td>en-US,en;q=0.9,he;q=0.8</td>\n",
       "      <td>none</td>\n",
       "      <td>same-origin</td>\n",
       "      <td>?1</td>\n",
       "      <td>document</td>\n",
       "      <td>['ck=c8uOUXcCTGAn3VPZ7KkmjeGl7T4m7z5hvteH_e4NP...</td>\n",
       "      <td>Fri, 11 Nov 2022 03:01:18 GMT</td>\n",
       "      <td>GET</td>\n",
       "      <td>http://127.0.0.1:5000/about/random_page</td>\n",
       "      <td></td>\n",
       "      <td>200 OK</td>\n",
       "      <td>text/html; charset=utf-8</td>\n",
       "      <td>1163</td>\n",
       "      <td>200</td>\n",
       "      <td>&lt;figure&gt;&lt;img src=\"https://img-c.udemycdn.com/r...</td>\n",
       "      <td>None</td>\n",
       "      <td>None</td>\n",
       "      <td>None</td>\n",
       "      <td>None</td>\n",
       "      <td>Benign</td>\n",
       "      <td>Benign</td>\n",
       "    </tr>\n",
       "    <tr>\n",
       "      <th>2</th>\n",
       "      <td>127.0.0.1:5000</td>\n",
       "      <td>Mozilla/5.0 (Windows NT 6.1; WOW64; rv:31.0) G...</td>\n",
       "      <td>gzip, deflate, br</td>\n",
       "      <td>*/*</td>\n",
       "      <td>keep-alive</td>\n",
       "      <td>de-CH</td>\n",
       "      <td>none</td>\n",
       "      <td>websocket</td>\n",
       "      <td>?1</td>\n",
       "      <td>document</td>\n",
       "      <td>['ck=RKquq_BCt65ARAQ2BjFcYW58e4Hr_JMvmHA71wfu8...</td>\n",
       "      <td>Fri, 11 Nov 2022 03:01:17 GMT</td>\n",
       "      <td>GET</td>\n",
       "      <td>http://127.0.0.1:5000/categories/check/all</td>\n",
       "      <td></td>\n",
       "      <td>200 OK</td>\n",
       "      <td>application/json</td>\n",
       "      <td>1112</td>\n",
       "      <td>200</td>\n",
       "      <td>[{\"category_id\": \"1\", \"category_name\": \"Bevera...</td>\n",
       "      <td>None</td>\n",
       "      <td>None</td>\n",
       "      <td>None</td>\n",
       "      <td>None</td>\n",
       "      <td>Benign</td>\n",
       "      <td>Benign</td>\n",
       "    </tr>\n",
       "    <tr>\n",
       "      <th>3</th>\n",
       "      <td>127.0.0.1:5000</td>\n",
       "      <td>Mozilla/5.0 (Macintosh; Intel Mac OS X 10_10_1...</td>\n",
       "      <td>gzip, deflate, br</td>\n",
       "      <td>*/*</td>\n",
       "      <td>keep-alive</td>\n",
       "      <td>en-US,en;q=0.5</td>\n",
       "      <td>none</td>\n",
       "      <td>same-origin</td>\n",
       "      <td>?1</td>\n",
       "      <td>document</td>\n",
       "      <td>['ck=RhHVh7pmM73Qp434tecicojVb27D_OtIVbYPqWaqj...</td>\n",
       "      <td>Fri, 11 Nov 2022 02:40:48 GMT</td>\n",
       "      <td>GET</td>\n",
       "      <td>http://127.0.0.1:5000/states/5911</td>\n",
       "      <td></td>\n",
       "      <td>404 NOT FOUND</td>\n",
       "      <td>application/json</td>\n",
       "      <td>33</td>\n",
       "      <td>404</td>\n",
       "      <td>{\"error\": \"State not found\"}</td>\n",
       "      <td>None</td>\n",
       "      <td>None</td>\n",
       "      <td>None</td>\n",
       "      <td>None</td>\n",
       "      <td>Benign</td>\n",
       "      <td>Benign</td>\n",
       "    </tr>\n",
       "    <tr>\n",
       "      <th>4</th>\n",
       "      <td>127.0.0.1:5000</td>\n",
       "      <td>Mozilla/5.0 (Windows NT 6.1; WOW64; rv:40.0) G...</td>\n",
       "      <td>gzip, deflate, br</td>\n",
       "      <td>*/*</td>\n",
       "      <td>keep-alive</td>\n",
       "      <td>en-US,en;q=0.9,he;q=0.8</td>\n",
       "      <td>none</td>\n",
       "      <td>websocket</td>\n",
       "      <td>?1</td>\n",
       "      <td>document</td>\n",
       "      <td>['ck=DBFNGnjseloXLj_cxqJe3QTz-J1XS4kaCpMWDl60G...</td>\n",
       "      <td>Fri, 11 Nov 2022 03:05:42 GMT</td>\n",
       "      <td>GET</td>\n",
       "      <td>http://127.0.0.1:5000/orders/get/ship_via/10642</td>\n",
       "      <td></td>\n",
       "      <td>404 NOT FOUND</td>\n",
       "      <td>application/json</td>\n",
       "      <td>36</td>\n",
       "      <td>404</td>\n",
       "      <td>{\"error\": \"Ship VIA not found\"}</td>\n",
       "      <td>None</td>\n",
       "      <td>None</td>\n",
       "      <td>None</td>\n",
       "      <td>None</td>\n",
       "      <td>Benign</td>\n",
       "      <td>Benign</td>\n",
       "    </tr>\n",
       "  </tbody>\n",
       "</table>\n",
       "</div>"
      ],
      "text/plain": [
       "  request.headers.Host                         request.headers.User-Agent  \\\n",
       "0       127.0.0.1:5000  Mozilla/5.0 (Windows NT 5.1; rv:31.0) Gecko/20...   \n",
       "1       127.0.0.1:5000  Mozilla/5.0 (X11; Linux x86_64) AppleWebKit/53...   \n",
       "2       127.0.0.1:5000  Mozilla/5.0 (Windows NT 6.1; WOW64; rv:31.0) G...   \n",
       "3       127.0.0.1:5000  Mozilla/5.0 (Macintosh; Intel Mac OS X 10_10_1...   \n",
       "4       127.0.0.1:5000  Mozilla/5.0 (Windows NT 6.1; WOW64; rv:40.0) G...   \n",
       "\n",
       "  request.headers.Accept-Encoding request.headers.Accept  \\\n",
       "0               gzip, deflate, br                    */*   \n",
       "1               gzip, deflate, br                    */*   \n",
       "2               gzip, deflate, br                    */*   \n",
       "3               gzip, deflate, br                    */*   \n",
       "4               gzip, deflate, br                    */*   \n",
       "\n",
       "  request.headers.Connection request.headers.Accept-Language  \\\n",
       "0                 keep-alive                           de-CH   \n",
       "1                 keep-alive         en-US,en;q=0.9,he;q=0.8   \n",
       "2                 keep-alive                           de-CH   \n",
       "3                 keep-alive                  en-US,en;q=0.5   \n",
       "4                 keep-alive         en-US,en;q=0.9,he;q=0.8   \n",
       "\n",
       "  request.headers.Sec-Fetch-Site request.headers.Sec-Fetch-Mode  \\\n",
       "0                           none                    same-origin   \n",
       "1                           none                    same-origin   \n",
       "2                           none                      websocket   \n",
       "3                           none                    same-origin   \n",
       "4                           none                      websocket   \n",
       "\n",
       "  request.headers.Sec-Fetch-User request.headers.Sec-Fetch-Dest  \\\n",
       "0                             ?1                       document   \n",
       "1                             ?1                       document   \n",
       "2                             ?1                       document   \n",
       "3                             ?1                       document   \n",
       "4                             ?1                       document   \n",
       "\n",
       "                          request.headers.Set-Cookie  \\\n",
       "0  ['ck=w6oM9XV_jvWjuuVd3hLe3eSdXXPydbyfsLwTlj4Mc...   \n",
       "1  ['ck=c8uOUXcCTGAn3VPZ7KkmjeGl7T4m7z5hvteH_e4NP...   \n",
       "2  ['ck=RKquq_BCt65ARAQ2BjFcYW58e4Hr_JMvmHA71wfu8...   \n",
       "3  ['ck=RhHVh7pmM73Qp434tecicojVb27D_OtIVbYPqWaqj...   \n",
       "4  ['ck=DBFNGnjseloXLj_cxqJe3QTz-J1XS4kaCpMWDl60G...   \n",
       "\n",
       "            request.headers.Date request.method  \\\n",
       "0  Fri, 11 Nov 2022 03:12:09 GMT            GET   \n",
       "1  Fri, 11 Nov 2022 03:01:18 GMT            GET   \n",
       "2  Fri, 11 Nov 2022 03:01:17 GMT            GET   \n",
       "3  Fri, 11 Nov 2022 02:40:48 GMT            GET   \n",
       "4  Fri, 11 Nov 2022 03:05:42 GMT            GET   \n",
       "\n",
       "                                       request.url request.body  \\\n",
       "0   http://127.0.0.1:5000/static/download_txt/7115                \n",
       "1          http://127.0.0.1:5000/about/random_page                \n",
       "2       http://127.0.0.1:5000/categories/check/all                \n",
       "3                http://127.0.0.1:5000/states/5911                \n",
       "4  http://127.0.0.1:5000/orders/get/ship_via/10642                \n",
       "\n",
       "  response.status response.headers.Content-Type  \\\n",
       "0   404 NOT FOUND              application/json   \n",
       "1          200 OK      text/html; charset=utf-8   \n",
       "2          200 OK              application/json   \n",
       "3   404 NOT FOUND              application/json   \n",
       "4   404 NOT FOUND              application/json   \n",
       "\n",
       "  response.headers.Content-Length  response.status_code  \\\n",
       "0                              32                   404   \n",
       "1                            1163                   200   \n",
       "2                            1112                   200   \n",
       "3                              33                   404   \n",
       "4                              36                   404   \n",
       "\n",
       "                                       response.body  \\\n",
       "0                        {\"error\": \"File not found\"}   \n",
       "1  <figure><img src=\"https://img-c.udemycdn.com/r...   \n",
       "2  [{\"category_id\": \"1\", \"category_name\": \"Bevera...   \n",
       "3                       {\"error\": \"State not found\"}   \n",
       "4                    {\"error\": \"Ship VIA not found\"}   \n",
       "\n",
       "  response.headers.Location request.headers.Cookie  \\\n",
       "0                      None                   None   \n",
       "1                      None                   None   \n",
       "2                      None                   None   \n",
       "3                      None                   None   \n",
       "4                      None                   None   \n",
       "\n",
       "  request.headers.Content-Length response.headers.Set-Cookie attack_type  \\\n",
       "0                           None                        None      Benign   \n",
       "1                           None                        None      Benign   \n",
       "2                           None                        None      Benign   \n",
       "3                           None                        None      Benign   \n",
       "4                           None                        None      Benign   \n",
       "\n",
       "    label  \n",
       "0  Benign  \n",
       "1  Benign  \n",
       "2  Benign  \n",
       "3  Benign  \n",
       "4  Benign  "
      ]
     },
     "execution_count": 22,
     "metadata": {},
     "output_type": "execute_result"
    }
   ],
   "source": [
    "# Remove all NAN columns or replace with desired string\n",
    "# This loop iterates over all of the column names which are all NaN\n",
    "for column in df.columns[df.isna().any()].tolist():\n",
    "    # df.drop(column, axis=1, inplace=True)\n",
    "    df[column] = df[column].fillna('None')\n",
    "    \n",
    "# If you want to detect columns that may have only some NaN values use this:\n",
    "# df.loc[:, df.isna().any()].tolist()\n",
    "\n",
    "df.head()"
   ]
  },
  {
   "cell_type": "code",
   "execution_count": 23,
   "metadata": {},
   "outputs": [
    {
     "data": {
      "text/html": [
       "<div>\n",
       "<style scoped>\n",
       "    .dataframe tbody tr th:only-of-type {\n",
       "        vertical-align: middle;\n",
       "    }\n",
       "\n",
       "    .dataframe tbody tr th {\n",
       "        vertical-align: top;\n",
       "    }\n",
       "\n",
       "    .dataframe thead th {\n",
       "        text-align: right;\n",
       "    }\n",
       "</style>\n",
       "<table border=\"1\" class=\"dataframe\">\n",
       "  <thead>\n",
       "    <tr style=\"text-align: right;\">\n",
       "      <th></th>\n",
       "      <th>request.headers.Host</th>\n",
       "      <th>request.headers.User-Agent</th>\n",
       "      <th>request.headers.Accept-Encoding</th>\n",
       "      <th>request.headers.Accept</th>\n",
       "      <th>request.headers.Connection</th>\n",
       "      <th>request.headers.Accept-Language</th>\n",
       "      <th>request.headers.Sec-Fetch-Site</th>\n",
       "      <th>request.headers.Sec-Fetch-Mode</th>\n",
       "      <th>request.headers.Sec-Fetch-User</th>\n",
       "      <th>request.headers.Sec-Fetch-Dest</th>\n",
       "      <th>request.headers.Set-Cookie</th>\n",
       "      <th>request.method</th>\n",
       "      <th>request.url</th>\n",
       "      <th>response.status</th>\n",
       "      <th>response.headers.Content-Type</th>\n",
       "      <th>response.status_code</th>\n",
       "      <th>response.body</th>\n",
       "      <th>response.headers.Location</th>\n",
       "      <th>request.headers.Cookie</th>\n",
       "      <th>request.headers.Content-Length</th>\n",
       "      <th>response.headers.Set-Cookie</th>\n",
       "      <th>attack_type</th>\n",
       "      <th>label</th>\n",
       "    </tr>\n",
       "  </thead>\n",
       "  <tbody>\n",
       "    <tr>\n",
       "      <th>0</th>\n",
       "      <td>0</td>\n",
       "      <td>-0.755929</td>\n",
       "      <td>0</td>\n",
       "      <td>0</td>\n",
       "      <td>0</td>\n",
       "      <td>1</td>\n",
       "      <td>0</td>\n",
       "      <td>0</td>\n",
       "      <td>0</td>\n",
       "      <td>0</td>\n",
       "      <td>-0.646997</td>\n",
       "      <td>0</td>\n",
       "      <td>0.408248</td>\n",
       "      <td>4</td>\n",
       "      <td>-1.0</td>\n",
       "      <td>404</td>\n",
       "      <td>0.408248</td>\n",
       "      <td>-1.0</td>\n",
       "      <td>-1.0</td>\n",
       "      <td>-1.0</td>\n",
       "      <td>-1.0</td>\n",
       "      <td>Benign</td>\n",
       "      <td>Benign</td>\n",
       "    </tr>\n",
       "    <tr>\n",
       "      <th>1</th>\n",
       "      <td>0</td>\n",
       "      <td>0.000000</td>\n",
       "      <td>0</td>\n",
       "      <td>0</td>\n",
       "      <td>0</td>\n",
       "      <td>3</td>\n",
       "      <td>0</td>\n",
       "      <td>0</td>\n",
       "      <td>0</td>\n",
       "      <td>0</td>\n",
       "      <td>-0.480384</td>\n",
       "      <td>0</td>\n",
       "      <td>0.000000</td>\n",
       "      <td>0</td>\n",
       "      <td>-1.0</td>\n",
       "      <td>200</td>\n",
       "      <td>0.956183</td>\n",
       "      <td>-1.0</td>\n",
       "      <td>-1.0</td>\n",
       "      <td>-1.0</td>\n",
       "      <td>-1.0</td>\n",
       "      <td>Benign</td>\n",
       "      <td>Benign</td>\n",
       "    </tr>\n",
       "    <tr>\n",
       "      <th>2</th>\n",
       "      <td>0</td>\n",
       "      <td>-0.408248</td>\n",
       "      <td>0</td>\n",
       "      <td>0</td>\n",
       "      <td>0</td>\n",
       "      <td>1</td>\n",
       "      <td>0</td>\n",
       "      <td>1</td>\n",
       "      <td>0</td>\n",
       "      <td>0</td>\n",
       "      <td>0.426401</td>\n",
       "      <td>0</td>\n",
       "      <td>0.707107</td>\n",
       "      <td>0</td>\n",
       "      <td>-1.0</td>\n",
       "      <td>200</td>\n",
       "      <td>-0.255551</td>\n",
       "      <td>-1.0</td>\n",
       "      <td>-1.0</td>\n",
       "      <td>-1.0</td>\n",
       "      <td>-1.0</td>\n",
       "      <td>Benign</td>\n",
       "      <td>Benign</td>\n",
       "    </tr>\n",
       "    <tr>\n",
       "      <th>3</th>\n",
       "      <td>0</td>\n",
       "      <td>0.666667</td>\n",
       "      <td>0</td>\n",
       "      <td>0</td>\n",
       "      <td>0</td>\n",
       "      <td>2</td>\n",
       "      <td>0</td>\n",
       "      <td>0</td>\n",
       "      <td>0</td>\n",
       "      <td>0</td>\n",
       "      <td>-0.593391</td>\n",
       "      <td>0</td>\n",
       "      <td>0.577350</td>\n",
       "      <td>4</td>\n",
       "      <td>-1.0</td>\n",
       "      <td>404</td>\n",
       "      <td>0.408248</td>\n",
       "      <td>-1.0</td>\n",
       "      <td>-1.0</td>\n",
       "      <td>-1.0</td>\n",
       "      <td>-1.0</td>\n",
       "      <td>Benign</td>\n",
       "      <td>Benign</td>\n",
       "    </tr>\n",
       "    <tr>\n",
       "      <th>4</th>\n",
       "      <td>0</td>\n",
       "      <td>-0.471405</td>\n",
       "      <td>0</td>\n",
       "      <td>0</td>\n",
       "      <td>0</td>\n",
       "      <td>3</td>\n",
       "      <td>0</td>\n",
       "      <td>1</td>\n",
       "      <td>0</td>\n",
       "      <td>0</td>\n",
       "      <td>-0.652753</td>\n",
       "      <td>0</td>\n",
       "      <td>0.377964</td>\n",
       "      <td>4</td>\n",
       "      <td>-1.0</td>\n",
       "      <td>404</td>\n",
       "      <td>0.894427</td>\n",
       "      <td>-1.0</td>\n",
       "      <td>-1.0</td>\n",
       "      <td>-1.0</td>\n",
       "      <td>-1.0</td>\n",
       "      <td>Benign</td>\n",
       "      <td>Benign</td>\n",
       "    </tr>\n",
       "  </tbody>\n",
       "</table>\n",
       "</div>"
      ],
      "text/plain": [
       "   request.headers.Host  request.headers.User-Agent  \\\n",
       "0                     0                   -0.755929   \n",
       "1                     0                    0.000000   \n",
       "2                     0                   -0.408248   \n",
       "3                     0                    0.666667   \n",
       "4                     0                   -0.471405   \n",
       "\n",
       "   request.headers.Accept-Encoding  request.headers.Accept  \\\n",
       "0                                0                       0   \n",
       "1                                0                       0   \n",
       "2                                0                       0   \n",
       "3                                0                       0   \n",
       "4                                0                       0   \n",
       "\n",
       "   request.headers.Connection  request.headers.Accept-Language  \\\n",
       "0                           0                                1   \n",
       "1                           0                                3   \n",
       "2                           0                                1   \n",
       "3                           0                                2   \n",
       "4                           0                                3   \n",
       "\n",
       "   request.headers.Sec-Fetch-Site  request.headers.Sec-Fetch-Mode  \\\n",
       "0                               0                               0   \n",
       "1                               0                               0   \n",
       "2                               0                               1   \n",
       "3                               0                               0   \n",
       "4                               0                               1   \n",
       "\n",
       "   request.headers.Sec-Fetch-User  request.headers.Sec-Fetch-Dest  \\\n",
       "0                               0                               0   \n",
       "1                               0                               0   \n",
       "2                               0                               0   \n",
       "3                               0                               0   \n",
       "4                               0                               0   \n",
       "\n",
       "   request.headers.Set-Cookie  request.method  request.url  response.status  \\\n",
       "0                   -0.646997               0     0.408248                4   \n",
       "1                   -0.480384               0     0.000000                0   \n",
       "2                    0.426401               0     0.707107                0   \n",
       "3                   -0.593391               0     0.577350                4   \n",
       "4                   -0.652753               0     0.377964                4   \n",
       "\n",
       "   response.headers.Content-Type  response.status_code  response.body  \\\n",
       "0                           -1.0                   404       0.408248   \n",
       "1                           -1.0                   200       0.956183   \n",
       "2                           -1.0                   200      -0.255551   \n",
       "3                           -1.0                   404       0.408248   \n",
       "4                           -1.0                   404       0.894427   \n",
       "\n",
       "   response.headers.Location  request.headers.Cookie  \\\n",
       "0                       -1.0                    -1.0   \n",
       "1                       -1.0                    -1.0   \n",
       "2                       -1.0                    -1.0   \n",
       "3                       -1.0                    -1.0   \n",
       "4                       -1.0                    -1.0   \n",
       "\n",
       "   request.headers.Content-Length  response.headers.Set-Cookie attack_type  \\\n",
       "0                            -1.0                         -1.0      Benign   \n",
       "1                            -1.0                         -1.0      Benign   \n",
       "2                            -1.0                         -1.0      Benign   \n",
       "3                            -1.0                         -1.0      Benign   \n",
       "4                            -1.0                         -1.0      Benign   \n",
       "\n",
       "    label  \n",
       "0  Benign  \n",
       "1  Benign  \n",
       "2  Benign  \n",
       "3  Benign  \n",
       "4  Benign  "
      ]
     },
     "execution_count": 23,
     "metadata": {},
     "output_type": "execute_result"
    }
   ],
   "source": [
    "# Setting features for further feature extraction by choosing columns\n",
    "# Some will be \"simply\" encoded via label encoding and others with HashingVectorizer\n",
    "\n",
    "# On these headers we will run a \"simple\" BOW\n",
    "SIMPLE_HEADERS = ['request.headers.Accept-Encoding',\n",
    "                'request.headers.Connection',\n",
    "                'request.headers.Host',\n",
    "                'request.headers.Accept',\n",
    "                'request.method',\n",
    "                'request.headers.Accept-Language',\n",
    "                'request.headers.Sec-Fetch-Site',\n",
    "                'request.headers.Sec-Fetch-Mode',\n",
    "                'request.headers.Sec-Fetch-Dest',\n",
    "                'request.headers.Sec-Fetch-User',\n",
    "                'response.status',\n",
    "                ]\n",
    "\n",
    "# On these headers we will run HashingVectorizer\n",
    "COMPLEX_HEADERS = ['request.headers.User-Agent',\n",
    "                    'request.headers.Set-Cookie',\n",
    "                    'request.headers.Date',\n",
    "                    'request.url',\n",
    "                    'response.headers.Content-Type',\n",
    "                    'response.body',\n",
    "                    'response.headers.Location',\n",
    "                    'request.headers.Content-Length',\n",
    "                    'request.headers.Cookie',\n",
    "                    'response.headers.Set-Cookie'\n",
    "                    ]\n",
    "\n",
    "COLUMNS_TO_REMOVE = ['request.body',\n",
    "                    'response.headers.Content-Length',\n",
    "                    'request.headers.Date']\n",
    "\n",
    "# This is our main preprocessing function that will iterate over all of the chosen \n",
    "# columns and run some feature extraction models\n",
    "def vectorize_df(df):\n",
    "    le = LabelEncoder()\n",
    "    h_vec = HashingVectorizer(n_features=4)\n",
    "\n",
    "    # Run LabelEncoder on the chosen features\n",
    "    for column in SIMPLE_HEADERS: \n",
    "        df[column] = le.fit_transform(df[column])\n",
    "    \n",
    "    # Run HashingVectorizer on the chosen features\n",
    "    for column in COMPLEX_HEADERS: \n",
    "        newHVec = h_vec.fit_transform(df[column])\n",
    "        df[column] = newHVec.todense()\n",
    "\n",
    "    # Remove some columns that may be needed.. (Or not, you decide)\n",
    "    for column in COLUMNS_TO_REMOVE: \n",
    "        df.drop(column, axis=1, inplace=True)\n",
    "    return df\n",
    "\n",
    "df = vectorize_df(df)\n",
    "df.head()"
   ]
  },
  {
   "cell_type": "code",
   "execution_count": 24,
   "metadata": {},
   "outputs": [
    {
     "name": "stdout",
     "output_type": "stream",
     "text": [
      "<class 'pandas.core.frame.DataFrame'>\n",
      "RangeIndex: 127500 entries, 0 to 127499\n",
      "Data columns (total 23 columns):\n",
      " #   Column                           Non-Null Count   Dtype  \n",
      "---  ------                           --------------   -----  \n",
      " 0   request.headers.Host             127500 non-null  int32  \n",
      " 1   request.headers.User-Agent       127500 non-null  float64\n",
      " 2   request.headers.Accept-Encoding  127500 non-null  int32  \n",
      " 3   request.headers.Accept           127500 non-null  int32  \n",
      " 4   request.headers.Connection       127500 non-null  int32  \n",
      " 5   request.headers.Accept-Language  127500 non-null  int32  \n",
      " 6   request.headers.Sec-Fetch-Site   127500 non-null  int32  \n",
      " 7   request.headers.Sec-Fetch-Mode   127500 non-null  int32  \n",
      " 8   request.headers.Sec-Fetch-User   127500 non-null  int32  \n",
      " 9   request.headers.Sec-Fetch-Dest   127500 non-null  int32  \n",
      " 10  request.headers.Set-Cookie       127500 non-null  float64\n",
      " 11  request.method                   127500 non-null  int32  \n",
      " 12  request.url                      127500 non-null  float64\n",
      " 13  response.status                  127500 non-null  int32  \n",
      " 14  response.headers.Content-Type    127500 non-null  float64\n",
      " 15  response.status_code             127500 non-null  int64  \n",
      " 16  response.body                    127500 non-null  float64\n",
      " 17  response.headers.Location        127500 non-null  float64\n",
      " 18  request.headers.Cookie           127500 non-null  float64\n",
      " 19  request.headers.Content-Length   127500 non-null  float64\n",
      " 20  response.headers.Set-Cookie      127500 non-null  float64\n",
      " 21  attack_type                      127500 non-null  object \n",
      " 22  label                            127500 non-null  object \n",
      "dtypes: float64(9), int32(11), int64(1), object(2)\n",
      "memory usage: 30.5 MB\n"
     ]
    }
   ],
   "source": [
    "# Memory check (For large datasets sometimes the dataframe will exceed the computers resources)\n",
    "df.info(memory_usage=\"deep\")"
   ]
  },
  {
   "cell_type": "code",
   "execution_count": 25,
   "metadata": {},
   "outputs": [
    {
     "data": {
      "image/png": "[encoded data removed]",
      "text/plain": [
       "<Figure size 1152x432 with 2 Axes>"
      ]
     },
     "metadata": {
      "needs_background": "light"
     },
     "output_type": "display_data"
    }
   ],
   "source": [
    "# Increase the size of the heatmap.\n",
    "plt.figure(figsize=(16, 6))\n",
    "# Store heatmap object in a variable to easily access it when you want to include more features (such as title).\n",
    "# Set the range of values to be displayed on the colormap from -1 to 1, and set the annotation to True to display the correlation values on the heatmap.\n",
    "heatmap = sns.heatmap(df.corr(), vmin=-1, vmax=1, annot=True)\n",
    "# Give a title to the heatmap. Pad defines the distance of the title from the top of the heatmap.\n",
    "heatmap.set_title('Correlation Heatmap', fontdict={'fontsize':12});"
   ]
  },
  {
   "cell_type": "code",
   "execution_count": 26,
   "metadata": {},
   "outputs": [
    {
     "data": {
      "text/html": [
       "<div>\n",
       "<style scoped>\n",
       "    .dataframe tbody tr th:only-of-type {\n",
       "        vertical-align: middle;\n",
       "    }\n",
       "\n",
       "    .dataframe tbody tr th {\n",
       "        vertical-align: top;\n",
       "    }\n",
       "\n",
       "    .dataframe thead th {\n",
       "        text-align: right;\n",
       "    }\n",
       "</style>\n",
       "<table border=\"1\" class=\"dataframe\">\n",
       "  <thead>\n",
       "    <tr style=\"text-align: right;\">\n",
       "      <th></th>\n",
       "      <th>request.headers.Host</th>\n",
       "      <th>request.headers.User-Agent</th>\n",
       "      <th>request.headers.Accept-Encoding</th>\n",
       "      <th>request.headers.Accept</th>\n",
       "      <th>request.headers.Connection</th>\n",
       "      <th>request.headers.Accept-Language</th>\n",
       "      <th>request.headers.Sec-Fetch-Site</th>\n",
       "      <th>request.headers.Sec-Fetch-Mode</th>\n",
       "      <th>request.headers.Sec-Fetch-User</th>\n",
       "      <th>request.headers.Sec-Fetch-Dest</th>\n",
       "      <th>request.headers.Set-Cookie</th>\n",
       "      <th>request.url</th>\n",
       "      <th>response.status</th>\n",
       "      <th>response.headers.Content-Type</th>\n",
       "      <th>response.body</th>\n",
       "      <th>response.headers.Location</th>\n",
       "      <th>request.headers.Cookie</th>\n",
       "      <th>request.headers.Content-Length</th>\n",
       "      <th>attack_type</th>\n",
       "      <th>label</th>\n",
       "    </tr>\n",
       "  </thead>\n",
       "  <tbody>\n",
       "    <tr>\n",
       "      <th>0</th>\n",
       "      <td>0</td>\n",
       "      <td>-0.755929</td>\n",
       "      <td>0</td>\n",
       "      <td>0</td>\n",
       "      <td>0</td>\n",
       "      <td>1</td>\n",
       "      <td>0</td>\n",
       "      <td>0</td>\n",
       "      <td>0</td>\n",
       "      <td>0</td>\n",
       "      <td>-0.646997</td>\n",
       "      <td>0.408248</td>\n",
       "      <td>4</td>\n",
       "      <td>-1.0</td>\n",
       "      <td>0.408248</td>\n",
       "      <td>-1.0</td>\n",
       "      <td>-1.0</td>\n",
       "      <td>-1.0</td>\n",
       "      <td>Benign</td>\n",
       "      <td>Benign</td>\n",
       "    </tr>\n",
       "    <tr>\n",
       "      <th>1</th>\n",
       "      <td>0</td>\n",
       "      <td>0.000000</td>\n",
       "      <td>0</td>\n",
       "      <td>0</td>\n",
       "      <td>0</td>\n",
       "      <td>3</td>\n",
       "      <td>0</td>\n",
       "      <td>0</td>\n",
       "      <td>0</td>\n",
       "      <td>0</td>\n",
       "      <td>-0.480384</td>\n",
       "      <td>0.000000</td>\n",
       "      <td>0</td>\n",
       "      <td>-1.0</td>\n",
       "      <td>0.956183</td>\n",
       "      <td>-1.0</td>\n",
       "      <td>-1.0</td>\n",
       "      <td>-1.0</td>\n",
       "      <td>Benign</td>\n",
       "      <td>Benign</td>\n",
       "    </tr>\n",
       "    <tr>\n",
       "      <th>2</th>\n",
       "      <td>0</td>\n",
       "      <td>-0.408248</td>\n",
       "      <td>0</td>\n",
       "      <td>0</td>\n",
       "      <td>0</td>\n",
       "      <td>1</td>\n",
       "      <td>0</td>\n",
       "      <td>1</td>\n",
       "      <td>0</td>\n",
       "      <td>0</td>\n",
       "      <td>0.426401</td>\n",
       "      <td>0.707107</td>\n",
       "      <td>0</td>\n",
       "      <td>-1.0</td>\n",
       "      <td>-0.255551</td>\n",
       "      <td>-1.0</td>\n",
       "      <td>-1.0</td>\n",
       "      <td>-1.0</td>\n",
       "      <td>Benign</td>\n",
       "      <td>Benign</td>\n",
       "    </tr>\n",
       "    <tr>\n",
       "      <th>3</th>\n",
       "      <td>0</td>\n",
       "      <td>0.666667</td>\n",
       "      <td>0</td>\n",
       "      <td>0</td>\n",
       "      <td>0</td>\n",
       "      <td>2</td>\n",
       "      <td>0</td>\n",
       "      <td>0</td>\n",
       "      <td>0</td>\n",
       "      <td>0</td>\n",
       "      <td>-0.593391</td>\n",
       "      <td>0.577350</td>\n",
       "      <td>4</td>\n",
       "      <td>-1.0</td>\n",
       "      <td>0.408248</td>\n",
       "      <td>-1.0</td>\n",
       "      <td>-1.0</td>\n",
       "      <td>-1.0</td>\n",
       "      <td>Benign</td>\n",
       "      <td>Benign</td>\n",
       "    </tr>\n",
       "    <tr>\n",
       "      <th>4</th>\n",
       "      <td>0</td>\n",
       "      <td>-0.471405</td>\n",
       "      <td>0</td>\n",
       "      <td>0</td>\n",
       "      <td>0</td>\n",
       "      <td>3</td>\n",
       "      <td>0</td>\n",
       "      <td>1</td>\n",
       "      <td>0</td>\n",
       "      <td>0</td>\n",
       "      <td>-0.652753</td>\n",
       "      <td>0.377964</td>\n",
       "      <td>4</td>\n",
       "      <td>-1.0</td>\n",
       "      <td>0.894427</td>\n",
       "      <td>-1.0</td>\n",
       "      <td>-1.0</td>\n",
       "      <td>-1.0</td>\n",
       "      <td>Benign</td>\n",
       "      <td>Benign</td>\n",
       "    </tr>\n",
       "    <tr>\n",
       "      <th>...</th>\n",
       "      <td>...</td>\n",
       "      <td>...</td>\n",
       "      <td>...</td>\n",
       "      <td>...</td>\n",
       "      <td>...</td>\n",
       "      <td>...</td>\n",
       "      <td>...</td>\n",
       "      <td>...</td>\n",
       "      <td>...</td>\n",
       "      <td>...</td>\n",
       "      <td>...</td>\n",
       "      <td>...</td>\n",
       "      <td>...</td>\n",
       "      <td>...</td>\n",
       "      <td>...</td>\n",
       "      <td>...</td>\n",
       "      <td>...</td>\n",
       "      <td>...</td>\n",
       "      <td>...</td>\n",
       "      <td>...</td>\n",
       "    </tr>\n",
       "    <tr>\n",
       "      <th>127495</th>\n",
       "      <td>0</td>\n",
       "      <td>0.000000</td>\n",
       "      <td>0</td>\n",
       "      <td>0</td>\n",
       "      <td>0</td>\n",
       "      <td>2</td>\n",
       "      <td>0</td>\n",
       "      <td>1</td>\n",
       "      <td>0</td>\n",
       "      <td>0</td>\n",
       "      <td>-0.303046</td>\n",
       "      <td>0.377964</td>\n",
       "      <td>4</td>\n",
       "      <td>-1.0</td>\n",
       "      <td>0.447214</td>\n",
       "      <td>-1.0</td>\n",
       "      <td>-1.0</td>\n",
       "      <td>-1.0</td>\n",
       "      <td>Benign</td>\n",
       "      <td>Benign</td>\n",
       "    </tr>\n",
       "    <tr>\n",
       "      <th>127496</th>\n",
       "      <td>0</td>\n",
       "      <td>-0.471405</td>\n",
       "      <td>0</td>\n",
       "      <td>0</td>\n",
       "      <td>0</td>\n",
       "      <td>0</td>\n",
       "      <td>0</td>\n",
       "      <td>1</td>\n",
       "      <td>0</td>\n",
       "      <td>0</td>\n",
       "      <td>-0.125988</td>\n",
       "      <td>0.000000</td>\n",
       "      <td>0</td>\n",
       "      <td>-1.0</td>\n",
       "      <td>0.408248</td>\n",
       "      <td>-1.0</td>\n",
       "      <td>-1.0</td>\n",
       "      <td>-1.0</td>\n",
       "      <td>Benign</td>\n",
       "      <td>Benign</td>\n",
       "    </tr>\n",
       "    <tr>\n",
       "      <th>127497</th>\n",
       "      <td>0</td>\n",
       "      <td>0.000000</td>\n",
       "      <td>0</td>\n",
       "      <td>0</td>\n",
       "      <td>0</td>\n",
       "      <td>0</td>\n",
       "      <td>0</td>\n",
       "      <td>1</td>\n",
       "      <td>0</td>\n",
       "      <td>0</td>\n",
       "      <td>-0.363803</td>\n",
       "      <td>0.000000</td>\n",
       "      <td>0</td>\n",
       "      <td>-1.0</td>\n",
       "      <td>0.408248</td>\n",
       "      <td>-1.0</td>\n",
       "      <td>-1.0</td>\n",
       "      <td>-1.0</td>\n",
       "      <td>Benign</td>\n",
       "      <td>Benign</td>\n",
       "    </tr>\n",
       "    <tr>\n",
       "      <th>127498</th>\n",
       "      <td>0</td>\n",
       "      <td>-0.800000</td>\n",
       "      <td>0</td>\n",
       "      <td>0</td>\n",
       "      <td>0</td>\n",
       "      <td>1</td>\n",
       "      <td>0</td>\n",
       "      <td>1</td>\n",
       "      <td>0</td>\n",
       "      <td>0</td>\n",
       "      <td>-0.356348</td>\n",
       "      <td>0.377964</td>\n",
       "      <td>4</td>\n",
       "      <td>-1.0</td>\n",
       "      <td>0.000000</td>\n",
       "      <td>-1.0</td>\n",
       "      <td>-1.0</td>\n",
       "      <td>-1.0</td>\n",
       "      <td>Benign</td>\n",
       "      <td>Benign</td>\n",
       "    </tr>\n",
       "    <tr>\n",
       "      <th>127499</th>\n",
       "      <td>0</td>\n",
       "      <td>-0.800000</td>\n",
       "      <td>0</td>\n",
       "      <td>0</td>\n",
       "      <td>0</td>\n",
       "      <td>1</td>\n",
       "      <td>0</td>\n",
       "      <td>0</td>\n",
       "      <td>0</td>\n",
       "      <td>0</td>\n",
       "      <td>-0.374634</td>\n",
       "      <td>0.894427</td>\n",
       "      <td>0</td>\n",
       "      <td>-1.0</td>\n",
       "      <td>0.291386</td>\n",
       "      <td>-1.0</td>\n",
       "      <td>-1.0</td>\n",
       "      <td>-1.0</td>\n",
       "      <td>Benign</td>\n",
       "      <td>Benign</td>\n",
       "    </tr>\n",
       "  </tbody>\n",
       "</table>\n",
       "<p>127500 rows × 20 columns</p>\n",
       "</div>"
      ],
      "text/plain": [
       "        request.headers.Host  request.headers.User-Agent  \\\n",
       "0                          0                   -0.755929   \n",
       "1                          0                    0.000000   \n",
       "2                          0                   -0.408248   \n",
       "3                          0                    0.666667   \n",
       "4                          0                   -0.471405   \n",
       "...                      ...                         ...   \n",
       "127495                     0                    0.000000   \n",
       "127496                     0                   -0.471405   \n",
       "127497                     0                    0.000000   \n",
       "127498                     0                   -0.800000   \n",
       "127499                     0                   -0.800000   \n",
       "\n",
       "        request.headers.Accept-Encoding  request.headers.Accept  \\\n",
       "0                                     0                       0   \n",
       "1                                     0                       0   \n",
       "2                                     0                       0   \n",
       "3                                     0                       0   \n",
       "4                                     0                       0   \n",
       "...                                 ...                     ...   \n",
       "127495                                0                       0   \n",
       "127496                                0                       0   \n",
       "127497                                0                       0   \n",
       "127498                                0                       0   \n",
       "127499                                0                       0   \n",
       "\n",
       "        request.headers.Connection  request.headers.Accept-Language  \\\n",
       "0                                0                                1   \n",
       "1                                0                                3   \n",
       "2                                0                                1   \n",
       "3                                0                                2   \n",
       "4                                0                                3   \n",
       "...                            ...                              ...   \n",
       "127495                           0                                2   \n",
       "127496                           0                                0   \n",
       "127497                           0                                0   \n",
       "127498                           0                                1   \n",
       "127499                           0                                1   \n",
       "\n",
       "        request.headers.Sec-Fetch-Site  request.headers.Sec-Fetch-Mode  \\\n",
       "0                                    0                               0   \n",
       "1                                    0                               0   \n",
       "2                                    0                               1   \n",
       "3                                    0                               0   \n",
       "4                                    0                               1   \n",
       "...                                ...                             ...   \n",
       "127495                               0                               1   \n",
       "127496                               0                               1   \n",
       "127497                               0                               1   \n",
       "127498                               0                               1   \n",
       "127499                               0                               0   \n",
       "\n",
       "        request.headers.Sec-Fetch-User  request.headers.Sec-Fetch-Dest  \\\n",
       "0                                    0                               0   \n",
       "1                                    0                               0   \n",
       "2                                    0                               0   \n",
       "3                                    0                               0   \n",
       "4                                    0                               0   \n",
       "...                                ...                             ...   \n",
       "127495                               0                               0   \n",
       "127496                               0                               0   \n",
       "127497                               0                               0   \n",
       "127498                               0                               0   \n",
       "127499                               0                               0   \n",
       "\n",
       "        request.headers.Set-Cookie  request.url  response.status  \\\n",
       "0                        -0.646997     0.408248                4   \n",
       "1                        -0.480384     0.000000                0   \n",
       "2                         0.426401     0.707107                0   \n",
       "3                        -0.593391     0.577350                4   \n",
       "4                        -0.652753     0.377964                4   \n",
       "...                            ...          ...              ...   \n",
       "127495                   -0.303046     0.377964                4   \n",
       "127496                   -0.125988     0.000000                0   \n",
       "127497                   -0.363803     0.000000                0   \n",
       "127498                   -0.356348     0.377964                4   \n",
       "127499                   -0.374634     0.894427                0   \n",
       "\n",
       "        response.headers.Content-Type  response.body  \\\n",
       "0                                -1.0       0.408248   \n",
       "1                                -1.0       0.956183   \n",
       "2                                -1.0      -0.255551   \n",
       "3                                -1.0       0.408248   \n",
       "4                                -1.0       0.894427   \n",
       "...                               ...            ...   \n",
       "127495                           -1.0       0.447214   \n",
       "127496                           -1.0       0.408248   \n",
       "127497                           -1.0       0.408248   \n",
       "127498                           -1.0       0.000000   \n",
       "127499                           -1.0       0.291386   \n",
       "\n",
       "        response.headers.Location  request.headers.Cookie  \\\n",
       "0                            -1.0                    -1.0   \n",
       "1                            -1.0                    -1.0   \n",
       "2                            -1.0                    -1.0   \n",
       "3                            -1.0                    -1.0   \n",
       "4                            -1.0                    -1.0   \n",
       "...                           ...                     ...   \n",
       "127495                       -1.0                    -1.0   \n",
       "127496                       -1.0                    -1.0   \n",
       "127497                       -1.0                    -1.0   \n",
       "127498                       -1.0                    -1.0   \n",
       "127499                       -1.0                    -1.0   \n",
       "\n",
       "        request.headers.Content-Length attack_type   label  \n",
       "0                                 -1.0      Benign  Benign  \n",
       "1                                 -1.0      Benign  Benign  \n",
       "2                                 -1.0      Benign  Benign  \n",
       "3                                 -1.0      Benign  Benign  \n",
       "4                                 -1.0      Benign  Benign  \n",
       "...                                ...         ...     ...  \n",
       "127495                            -1.0      Benign  Benign  \n",
       "127496                            -1.0      Benign  Benign  \n",
       "127497                            -1.0      Benign  Benign  \n",
       "127498                            -1.0      Benign  Benign  \n",
       "127499                            -1.0      Benign  Benign  \n",
       "\n",
       "[127500 rows x 20 columns]"
      ]
     },
     "execution_count": 26,
     "metadata": {},
     "output_type": "execute_result"
    }
   ],
   "source": [
    "df.drop('response.headers.Set-Cookie', axis=1, inplace=True)\n",
    "df.drop('request.method', axis=1, inplace=True)\n",
    "df.drop('response.status_code', axis=1, inplace=True)\n",
    "# df.drop('response.headers.Location', axis=1, inplace=True)\n",
    "\n",
    "df"
   ]
  },
  {
   "cell_type": "markdown",
   "metadata": {},
   "source": [
    "# Check which fields don't matter"
   ]
  },
  {
   "cell_type": "code",
   "execution_count": 27,
   "metadata": {},
   "outputs": [
    {
     "name": "stderr",
     "output_type": "stream",
     "text": [
      "C:\\Users\\shaha\\anaconda3\\lib\\site-packages\\seaborn\\distributions.py:283: UserWarning: Data must have variance to compute a kernel density estimate.\n",
      "  warnings.warn(msg, UserWarning)\n"
     ]
    },
    {
     "name": "stdout",
     "output_type": "stream",
     "text": [
      "Skewness: 0.000000\n",
      "Kurtosis: 0.000000\n"
     ]
    },
    {
     "data": {
      "image/png": "[encoded data removed]",
      "text/plain": [
       "<Figure size 432x288 with 1 Axes>"
      ]
     },
     "metadata": {
      "needs_background": "light"
     },
     "output_type": "display_data"
    }
   ],
   "source": [
    "sns.distplot(df['request.headers.Host'])\n",
    "print(\"Skewness: %f\" % df['request.headers.Host'].skew())\n",
    "print(\"Kurtosis: %f\" % df['request.headers.Host'].kurt())"
   ]
  },
  {
   "cell_type": "code",
   "execution_count": 28,
   "metadata": {},
   "outputs": [
    {
     "name": "stderr",
     "output_type": "stream",
     "text": [
      "C:\\Users\\shaha\\anaconda3\\lib\\site-packages\\seaborn\\distributions.py:369: UserWarning: Default bandwidth for data is 0; skipping density estimation.\n",
      "  warnings.warn(msg, UserWarning)\n"
     ]
    },
    {
     "name": "stdout",
     "output_type": "stream",
     "text": [
      "Skewness: 29.561180\n",
      "Kurtosis: 930.802791\n"
     ]
    },
    {
     "data": {
      "image/png": "[encoded data removed]",
      "text/plain": [
       "<Figure size 432x288 with 1 Axes>"
      ]
     },
     "metadata": {
      "needs_background": "light"
     },
     "output_type": "display_data"
    }
   ],
   "source": [
    "sns.distplot(df['request.headers.Accept-Encoding'])\n",
    "print(\"Skewness: %f\" % df['request.headers.Accept-Encoding'].skew())\n",
    "print(\"Kurtosis: %f\" % df['request.headers.Accept-Encoding'].kurt())"
   ]
  },
  {
   "cell_type": "code",
   "execution_count": 29,
   "metadata": {},
   "outputs": [
    {
     "name": "stderr",
     "output_type": "stream",
     "text": [
      "C:\\Users\\shaha\\anaconda3\\lib\\site-packages\\seaborn\\distributions.py:283: UserWarning: Data must have variance to compute a kernel density estimate.\n",
      "  warnings.warn(msg, UserWarning)\n"
     ]
    },
    {
     "name": "stdout",
     "output_type": "stream",
     "text": [
      "Skewness: 0.000000\n",
      "Kurtosis: 0.000000\n"
     ]
    },
    {
     "data": {
      "image/png": "[encoded data removed]",
      "text/plain": [
       "<Figure size 432x288 with 1 Axes>"
      ]
     },
     "metadata": {
      "needs_background": "light"
     },
     "output_type": "display_data"
    }
   ],
   "source": [
    "sns.distplot(df['request.headers.Accept'])\n",
    "print(\"Skewness: %f\" % df['request.headers.Accept'].skew())\n",
    "print(\"Kurtosis: %f\" % df['request.headers.Accept'].kurt())"
   ]
  },
  {
   "cell_type": "code",
   "execution_count": 30,
   "metadata": {},
   "outputs": [
    {
     "name": "stderr",
     "output_type": "stream",
     "text": [
      "C:\\Users\\shaha\\anaconda3\\lib\\site-packages\\seaborn\\distributions.py:283: UserWarning: Data must have variance to compute a kernel density estimate.\n",
      "  warnings.warn(msg, UserWarning)\n"
     ]
    },
    {
     "name": "stdout",
     "output_type": "stream",
     "text": [
      "Skewness: 0.000000\n",
      "Kurtosis: 0.000000\n"
     ]
    },
    {
     "data": {
      "image/png": "[encoded data removed]",
      "text/plain": [
       "<Figure size 432x288 with 1 Axes>"
      ]
     },
     "metadata": {
      "needs_background": "light"
     },
     "output_type": "display_data"
    }
   ],
   "source": [
    "sns.distplot(df['request.headers.Connection'])\n",
    "print(\"Skewness: %f\" % df['request.headers.Connection'].skew())\n",
    "print(\"Kurtosis: %f\" % df['request.headers.Connection'].kurt())"
   ]
  },
  {
   "cell_type": "code",
   "execution_count": 31,
   "metadata": {},
   "outputs": [
    {
     "name": "stdout",
     "output_type": "stream",
     "text": [
      "Skewness: 29.250181\n",
      "Kurtosis: 908.089458\n"
     ]
    },
    {
     "name": "stderr",
     "output_type": "stream",
     "text": [
      "C:\\Users\\shaha\\anaconda3\\lib\\site-packages\\seaborn\\distributions.py:369: UserWarning: Default bandwidth for data is 0; skipping density estimation.\n",
      "  warnings.warn(msg, UserWarning)\n"
     ]
    },
    {
     "data": {
      "image/png": "[encoded data removed]",
      "text/plain": [
       "<Figure size 432x288 with 1 Axes>"
      ]
     },
     "metadata": {
      "needs_background": "light"
     },
     "output_type": "display_data"
    }
   ],
   "source": [
    "sns.distplot(df['request.headers.Sec-Fetch-Site'])\n",
    "print(\"Skewness: %f\" % df['request.headers.Sec-Fetch-Site'].skew())\n",
    "print(\"Kurtosis: %f\" % df['request.headers.Sec-Fetch-Site'].kurt())"
   ]
  },
  {
   "cell_type": "code",
   "execution_count": 32,
   "metadata": {},
   "outputs": [
    {
     "name": "stderr",
     "output_type": "stream",
     "text": [
      "C:\\Users\\shaha\\anaconda3\\lib\\site-packages\\seaborn\\distributions.py:283: UserWarning: Data must have variance to compute a kernel density estimate.\n",
      "  warnings.warn(msg, UserWarning)\n"
     ]
    },
    {
     "name": "stdout",
     "output_type": "stream",
     "text": [
      "Skewness: 0.000000\n",
      "Kurtosis: 0.000000\n"
     ]
    },
    {
     "data": {
      "image/png": "[encoded data removed]",
      "text/plain": [
       "<Figure size 432x288 with 1 Axes>"
      ]
     },
     "metadata": {
      "needs_background": "light"
     },
     "output_type": "display_data"
    }
   ],
   "source": [
    "sns.distplot(df['request.headers.Sec-Fetch-User'])\n",
    "print(\"Skewness: %f\" % df['request.headers.Sec-Fetch-User'].skew())\n",
    "print(\"Kurtosis: %f\" % df['request.headers.Sec-Fetch-User'].kurt())"
   ]
  },
  {
   "cell_type": "code",
   "execution_count": 33,
   "metadata": {},
   "outputs": [
    {
     "name": "stderr",
     "output_type": "stream",
     "text": [
      "C:\\Users\\shaha\\anaconda3\\lib\\site-packages\\seaborn\\distributions.py:369: UserWarning: Default bandwidth for data is 0; skipping density estimation.\n",
      "  warnings.warn(msg, UserWarning)\n"
     ]
    },
    {
     "name": "stdout",
     "output_type": "stream",
     "text": [
      "Skewness: 30.174876\n",
      "Kurtosis: 971.180991\n"
     ]
    },
    {
     "data": {
      "image/png": "[encoded data removed]",
      "text/plain": [
       "<Figure size 432x288 with 1 Axes>"
      ]
     },
     "metadata": {
      "needs_background": "light"
     },
     "output_type": "display_data"
    }
   ],
   "source": [
    "sns.distplot(df['request.headers.Sec-Fetch-Dest'])\n",
    "print(\"Skewness: %f\" % df['request.headers.Sec-Fetch-Dest'].skew())\n",
    "print(\"Kurtosis: %f\" % df['request.headers.Sec-Fetch-Dest'].kurt())"
   ]
  },
  {
   "cell_type": "code",
   "execution_count": 34,
   "metadata": {},
   "outputs": [
    {
     "name": "stderr",
     "output_type": "stream",
     "text": [
      "C:\\Users\\shaha\\anaconda3\\lib\\site-packages\\seaborn\\distributions.py:283: UserWarning: Data must have variance to compute a kernel density estimate.\n",
      "  warnings.warn(msg, UserWarning)\n"
     ]
    },
    {
     "name": "stdout",
     "output_type": "stream",
     "text": [
      "Skewness: 0.000000\n",
      "Kurtosis: 0.000000\n"
     ]
    },
    {
     "data": {
      "image/png": "[encoded data removed]",
      "text/plain": [
       "<Figure size 432x288 with 1 Axes>"
      ]
     },
     "metadata": {
      "needs_background": "light"
     },
     "output_type": "display_data"
    }
   ],
   "source": [
    "sns.distplot(df['response.headers.Content-Type'])\n",
    "print(\"Skewness: %f\" % df['response.headers.Content-Type'].skew())\n",
    "print(\"Kurtosis: %f\" % df['response.headers.Content-Type'].kurt())"
   ]
  },
  {
   "cell_type": "code",
   "execution_count": 35,
   "metadata": {},
   "outputs": [
    {
     "name": "stderr",
     "output_type": "stream",
     "text": [
      "C:\\Users\\shaha\\anaconda3\\lib\\site-packages\\seaborn\\distributions.py:369: UserWarning: Default bandwidth for data is 0; skipping density estimation.\n",
      "  warnings.warn(msg, UserWarning)\n"
     ]
    },
    {
     "name": "stdout",
     "output_type": "stream",
     "text": [
      "Skewness: 4.770848\n",
      "Kurtosis: 24.060399\n"
     ]
    },
    {
     "data": {
      "image/png": "[encoded data removed]",
      "text/plain": [
       "<Figure size 432x288 with 1 Axes>"
      ]
     },
     "metadata": {
      "needs_background": "light"
     },
     "output_type": "display_data"
    }
   ],
   "source": [
    "sns.distplot(df['response.headers.Location'])\n",
    "print(\"Skewness: %f\" % df['response.headers.Location'].skew())\n",
    "print(\"Kurtosis: %f\" % df['response.headers.Location'].kurt())"
   ]
  },
  {
   "cell_type": "code",
   "execution_count": 36,
   "metadata": {},
   "outputs": [
    {
     "name": "stderr",
     "output_type": "stream",
     "text": [
      "C:\\Users\\shaha\\anaconda3\\lib\\site-packages\\seaborn\\distributions.py:369: UserWarning: Default bandwidth for data is 0; skipping density estimation.\n",
      "  warnings.warn(msg, UserWarning)\n"
     ]
    },
    {
     "name": "stdout",
     "output_type": "stream",
     "text": [
      "Skewness: 7.724563\n",
      "Kurtosis: 60.854903\n"
     ]
    },
    {
     "data": {
      "image/png": "[encoded data removed]",
      "text/plain": [
       "<Figure size 432x288 with 1 Axes>"
      ]
     },
     "metadata": {
      "needs_background": "light"
     },
     "output_type": "display_data"
    }
   ],
   "source": [
    "sns.distplot(df['request.headers.Cookie'])\n",
    "print(\"Skewness: %f\" % df['request.headers.Cookie'].skew())\n",
    "print(\"Kurtosis: %f\" % df['request.headers.Cookie'].kurt())"
   ]
  },
  {
   "cell_type": "code",
   "execution_count": 37,
   "metadata": {},
   "outputs": [
    {
     "name": "stderr",
     "output_type": "stream",
     "text": [
      "C:\\Users\\shaha\\anaconda3\\lib\\site-packages\\seaborn\\distributions.py:369: UserWarning: Default bandwidth for data is 0; skipping density estimation.\n",
      "  warnings.warn(msg, UserWarning)\n"
     ]
    },
    {
     "name": "stdout",
     "output_type": "stream",
     "text": [
      "Skewness: 10.127109\n",
      "Kurtosis: 100.559913\n"
     ]
    },
    {
     "data": {
      "image/png": "[encoded data removed]",
      "text/plain": [
       "<Figure size 432x288 with 1 Axes>"
      ]
     },
     "metadata": {
      "needs_background": "light"
     },
     "output_type": "display_data"
    }
   ],
   "source": [
    "sns.distplot(df['request.headers.Content-Length'])\n",
    "print(\"Skewness: %f\" % df['request.headers.Content-Length'].skew())\n",
    "print(\"Kurtosis: %f\" % df['request.headers.Content-Length'].kurt())"
   ]
  },
  {
   "cell_type": "markdown",
   "metadata": {},
   "source": [
    "## Drop unnecessary fields"
   ]
  },
  {
   "cell_type": "code",
   "execution_count": 38,
   "metadata": {},
   "outputs": [],
   "source": [
    "df.drop('request.headers.Host', axis=1, inplace=True)\n",
    "df.drop('request.headers.Accept', axis=1, inplace=True)\n",
    "df.drop('request.headers.Connection', axis=1, inplace=True)\n",
    "df.drop('request.headers.Sec-Fetch-User', axis=1, inplace=True)\n",
    "df.drop('response.headers.Content-Type', axis=1, inplace=True)"
   ]
  },
  {
   "cell_type": "code",
   "execution_count": 39,
   "metadata": {},
   "outputs": [
    {
     "name": "stdout",
     "output_type": "stream",
     "text": [
      "['request.headers.User-Agent', 'request.headers.Accept-Encoding', 'request.headers.Accept-Language', 'request.headers.Sec-Fetch-Site', 'request.headers.Sec-Fetch-Mode', 'request.headers.Sec-Fetch-Dest', 'request.headers.Set-Cookie', 'request.url', 'response.status', 'response.body', 'response.headers.Location', 'request.headers.Cookie', 'request.headers.Content-Length']\n"
     ]
    },
    {
     "data": {
      "text/plain": [
       "request.headers.User-Agent         float64\n",
       "request.headers.Accept-Encoding      int32\n",
       "request.headers.Accept-Language      int32\n",
       "request.headers.Sec-Fetch-Site       int32\n",
       "request.headers.Sec-Fetch-Mode       int32\n",
       "request.headers.Sec-Fetch-Dest       int32\n",
       "request.headers.Set-Cookie         float64\n",
       "request.url                        float64\n",
       "response.status                      int32\n",
       "response.body                      float64\n",
       "response.headers.Location          float64\n",
       "request.headers.Cookie             float64\n",
       "request.headers.Content-Length     float64\n",
       "attack_type                         object\n",
       "label                               object\n",
       "dtype: object"
      ]
     },
     "execution_count": 39,
     "metadata": {},
     "output_type": "execute_result"
    }
   ],
   "source": [
    "# Choose the right features\n",
    "# In our example code we choose all the columns as our feature this can be the right or wrong way to approach the model, you choose.\n",
    "\n",
    "features_list = df.columns.to_list()\n",
    "features_list.remove('label')\n",
    "features_list.remove('attack_type')\n",
    "print(features_list)\n",
    "\n",
    "# Recheck all datatype before training to see we don't have any objects in our features\n",
    "# In this example our model must get features containing only numbers so we recheck to see if we missed anything during preprocessing\n",
    "df.dtypes"
   ]
  },
  {
   "cell_type": "code",
   "execution_count": 40,
   "metadata": {},
   "outputs": [
    {
     "data": {
      "image/png": "[encoded data removed]",
      "text/plain": [
       "<Figure size 1152x432 with 2 Axes>"
      ]
     },
     "metadata": {
      "needs_background": "light"
     },
     "output_type": "display_data"
    }
   ],
   "source": [
    "# Increase the size of the heatmap.\n",
    "plt.figure(figsize=(16, 6))\n",
    "# Store heatmap object in a variable to easily access it when you want to include more features (such as title).\n",
    "# Set the range of values to be displayed on the colormap from -1 to 1, and set the annotation to True to display the correlation values on the heatmap.\n",
    "heatmap = sns.heatmap(df.corr(), vmin=-1, vmax=1, annot=True)\n",
    "# Give a title to the heatmap. Pad defines the distance of the title from the top of the heatmap.\n",
    "heatmap.set_title('Correlation Heatmap', fontdict={'fontsize':12});"
   ]
  },
  {
   "cell_type": "markdown",
   "metadata": {},
   "source": [
    "## Train test split"
   ]
  },
  {
   "cell_type": "code",
   "execution_count": 41,
   "metadata": {},
   "outputs": [
    {
     "name": "stdout",
     "output_type": "stream",
     "text": [
      "(104996, 13) (104996,)\n",
      "(22504, 13) (22504,)\n"
     ]
    },
    {
     "data": {
      "text/plain": [
       "Counter({'Benign': 117914, 'Malware': 9586})"
      ]
     },
     "execution_count": 41,
     "metadata": {},
     "output_type": "execute_result"
    }
   ],
   "source": [
    "# Data train and test split preparations. Here we will insert our feature list and label list.\n",
    "# Afterwards the data will be trained and fitted on the amazing XGBoost model\n",
    "# X_Train and y_Train will be used for training\n",
    "# X_test and y_test.T will be used for over fitting checking and overall score testing\n",
    "\n",
    "# We convert the feature list to a numpy array, this is required for the model fitting\n",
    "X = df[features_list].to_numpy()\n",
    "\n",
    "# This column is the desired prediction we will train our model on\n",
    "y = np.stack(df[test_type])\n",
    "\n",
    "# We split the dataset to train and test according to the required ration\n",
    "# Do not change the test_size -> you can change anything else\n",
    "X_train, X_test, y_train, y_test = train_test_split(X, y, test_size=0.1765, random_state=42, stratify=y)\n",
    "\n",
    "# We print the resulted datasets and count the difference \n",
    "print(X_train.shape, y_train.shape)\n",
    "print(X_test.shape, y_test.shape)\n",
    "counter = Counter(y)\n",
    "counter"
   ]
  },
  {
   "cell_type": "markdown",
   "metadata": {},
   "source": [
    "## Model choosing and fitting"
   ]
  },
  {
   "cell_type": "markdown",
   "metadata": {},
   "source": [
    "### Random Forest"
   ]
  },
  {
   "cell_type": "code",
   "execution_count": 42,
   "metadata": {},
   "outputs": [
    {
     "name": "stdout",
     "output_type": "stream",
     "text": [
      "[('Benign', 97102), ('Malware', 7894)]\n"
     ]
    }
   ],
   "source": [
    "# We choose our model of choice and set it's hyper parameters you can change anything\n",
    "clf = RandomForestClassifier(n_estimators=95)\n",
    "\n",
    "# Train Model\n",
    "clf.fit(X_train, y_train)\n",
    "\n",
    "# Check data balance and variety\n",
    "print(sorted(Counter(y_train).items()))"
   ]
  },
  {
   "cell_type": "markdown",
   "metadata": {},
   "source": [
    "## Result printout "
   ]
  },
  {
   "cell_type": "code",
   "execution_count": 43,
   "metadata": {},
   "outputs": [
    {
     "name": "stdout",
     "output_type": "stream",
     "text": [
      "              precision    recall  f1-score   support\n",
      "\n",
      "      Benign    0.98492   0.99174   0.98832     20812\n",
      "     Malware    0.88889   0.81324   0.84938      1692\n",
      "\n",
      "    accuracy                        0.97831     22504\n",
      "   macro avg    0.93690   0.90249   0.91885     22504\n",
      "weighted avg    0.97770   0.97831   0.97787     22504\n",
      "\n"
     ]
    },
    {
     "data": {
      "image/png": "[encoded data removed]",
      "text/plain": [
       "<Figure size 1080x576 with 2 Axes>"
      ]
     },
     "metadata": {},
     "output_type": "display_data"
    }
   ],
   "source": [
    "# We print our results\n",
    "sns.set(rc={'figure.figsize':(15,8)})\n",
    "predictions = clf.predict(X_test)\n",
    "true_labels = y_test\n",
    "cf_matrix = confusion_matrix(true_labels, predictions)\n",
    "clf_report = classification_report(true_labels, predictions, digits=5)\n",
    "heatmap = sns.heatmap(cf_matrix, annot=True, cmap='Blues', fmt='g', \n",
    "                      xticklabels=np.unique(true_labels), \n",
    "                      yticklabels=np.unique(true_labels)) \n",
    "\n",
    "# The heatmap is cool but this is the most important result\n",
    "print(clf_report)"
   ]
  },
  {
   "cell_type": "markdown",
   "metadata": {},
   "source": [
    "### Naive Bayes"
   ]
  },
  {
   "cell_type": "code",
   "execution_count": 44,
   "metadata": {},
   "outputs": [
    {
     "name": "stdout",
     "output_type": "stream",
     "text": [
      "[('Benign', 97102), ('Malware', 7894)]\n"
     ]
    }
   ],
   "source": [
    "from sklearn.naive_bayes import GaussianNB\n",
    "nBase = GaussianNB()\n",
    "nBase.fit(X_train, y_train)\n",
    "# Check data balance and variety\n",
    "print(sorted(Counter(y_train).items()))"
   ]
  },
  {
   "cell_type": "code",
   "execution_count": 45,
   "metadata": {},
   "outputs": [
    {
     "name": "stdout",
     "output_type": "stream",
     "text": [
      "              precision    recall  f1-score   support\n",
      "\n",
      "      Benign    0.94807   1.00000   0.97334     20812\n",
      "     Malware    1.00000   0.32624   0.49198      1692\n",
      "\n",
      "    accuracy                        0.94934     22504\n",
      "   macro avg    0.97403   0.66312   0.73266     22504\n",
      "weighted avg    0.95197   0.94934   0.93715     22504\n",
      "\n"
     ]
    },
    {
     "data": {
      "image/png": "[encoded data removed]",
      "text/plain": [
       "<Figure size 1080x576 with 2 Axes>"
      ]
     },
     "metadata": {},
     "output_type": "display_data"
    }
   ],
   "source": [
    "# We print our results\n",
    "sns.set(rc={'figure.figsize':(15,8)})\n",
    "prediction = nBase.predict(X_test)\n",
    "true_labels = y_test\n",
    "lc_matrix = confusion_matrix(true_labels, prediction)\n",
    "lc_report = classification_report(true_labels, prediction, digits=5)\n",
    "heatmap = sns.heatmap(lc_matrix, annot=True, cmap='Blues', fmt='g', \n",
    "                      xticklabels=np.unique(true_labels), \n",
    "                      yticklabels=np.unique(true_labels)) \n",
    "\n",
    "# The heatmap is cool but this is the most important result\n",
    "print(lc_report)"
   ]
  },
  {
   "cell_type": "markdown",
   "metadata": {},
   "source": [
    "# SVM- try"
   ]
  },
  {
   "cell_type": "code",
   "execution_count": 46,
   "metadata": {},
   "outputs": [],
   "source": [
    "# from sklearn import svm\n",
    "\n",
    "# svmlin = svm.SVC(kernel='linear', C=0.9)\n",
    "# # y_train[:] = [x if x != 'Benign' else 0 for x in y_train]\n",
    "# # y_train[:] = [x if x != 'Malware' else 1 for x in y_train]\n",
    "# svmlin.fit(X_train, y_train)\n",
    "# # # Check data balance and variety\n",
    "# print(sorted(Counter(y_train).items()))"
   ]
  },
  {
   "cell_type": "code",
   "execution_count": 47,
   "metadata": {
    "scrolled": true
   },
   "outputs": [],
   "source": [
    "# # We print our results\n",
    "# sns.set(rc={'figure.figsize':(15,8)})\n",
    "# prediction = svmlin.predict(X_test)\n",
    "# # prediction[:] = [x if x != 'Benign' else 0 for x in prediction]\n",
    "# # prediction[:] = [x if x != 'Malware' else 1 for x in prediction]\n",
    "# true_labels = y_test\n",
    "# # y_test[:] = [x if x != 'Benign' else 0 for x in y_test]\n",
    "# # y_test[:] = [x if x != 'Malware' else 1 for x in y_test]\n",
    "# lc_matrix = confusion_matrix(true_labels, prediction)\n",
    "# lc_report = classification_report(true_labels, prediction, digits=5)\n",
    "# heatmap = sns.heatmap(lc_matrix, annot=True, cmap='Blues', fmt='g', \n",
    "#                       xticklabels=np.unique(true_labels), \n",
    "#                       yticklabels=np.unique(true_labels)) \n",
    "\n",
    "# # The heatmap is cool but this is the most important result\n",
    "# print(lc_report)"
   ]
  },
  {
   "cell_type": "markdown",
   "metadata": {},
   "source": [
    "### Dummy"
   ]
  },
  {
   "cell_type": "code",
   "execution_count": 48,
   "metadata": {},
   "outputs": [
    {
     "name": "stdout",
     "output_type": "stream",
     "text": [
      "[('Benign', 97102), ('Malware', 7894)]\n"
     ]
    }
   ],
   "source": [
    "from sklearn.dummy import DummyClassifier\n",
    "\n",
    "dum = DummyClassifier(strategy='stratified')\n",
    "dum.fit(X_train, y_train)\n",
    "# Check data balance and variety\n",
    "print(sorted(Counter(y_train).items()))"
   ]
  },
  {
   "cell_type": "code",
   "execution_count": 49,
   "metadata": {},
   "outputs": [
    {
     "name": "stdout",
     "output_type": "stream",
     "text": [
      "              precision    recall  f1-score   support\n",
      "\n",
      "      Benign    0.92451   0.92274   0.92362     20812\n",
      "     Malware    0.07159   0.07329   0.07243      1692\n",
      "\n",
      "    accuracy                        0.85887     22504\n",
      "   macro avg    0.49805   0.49801   0.49803     22504\n",
      "weighted avg    0.86039   0.85887   0.85963     22504\n",
      "\n"
     ]
    },
    {
     "data": {
      "image/png": "[encoded data removed]",
      "text/plain": [
       "<Figure size 1080x576 with 2 Axes>"
      ]
     },
     "metadata": {},
     "output_type": "display_data"
    }
   ],
   "source": [
    "# We print our results\n",
    "sns.set(rc={'figure.figsize':(15,8)})\n",
    "prediction = dum.predict(X_test)\n",
    "true_labels = y_test\n",
    "lc_matrix = confusion_matrix(true_labels, prediction)\n",
    "lc_report = classification_report(true_labels, prediction, digits=5)\n",
    "heatmap = sns.heatmap(lc_matrix, annot=True, cmap='Blues', fmt='g', \n",
    "                      xticklabels=np.unique(true_labels), \n",
    "                      yticklabels=np.unique(true_labels)) \n",
    "\n",
    "# The heatmap is cool but this is the most important result\n",
    "print(lc_report)"
   ]
  },
  {
   "cell_type": "markdown",
   "metadata": {},
   "source": [
    "### KNN"
   ]
  },
  {
   "cell_type": "code",
   "execution_count": 50,
   "metadata": {},
   "outputs": [
    {
     "name": "stdout",
     "output_type": "stream",
     "text": [
      "[('Benign', 97102), ('Malware', 7894)]\n"
     ]
    }
   ],
   "source": [
    "from sklearn.neighbors import KNeighborsClassifier\n",
    "\n",
    "knn = KNeighborsClassifier(n_neighbors=8)\n",
    "knn.fit(X_train, y_train)\n",
    "# Check data balance and variety\n",
    "print(sorted(Counter(y_train).items()))"
   ]
  },
  {
   "cell_type": "code",
   "execution_count": 51,
   "metadata": {},
   "outputs": [
    {
     "name": "stdout",
     "output_type": "stream",
     "text": [
      "              precision    recall  f1-score   support\n",
      "\n",
      "      Benign    0.97015   0.99476   0.98230     20812\n",
      "     Malware    0.90636   0.62352   0.73880      1692\n",
      "\n",
      "    accuracy                        0.96685     22504\n",
      "   macro avg    0.93825   0.80914   0.86055     22504\n",
      "weighted avg    0.96535   0.96685   0.96399     22504\n",
      "\n"
     ]
    },
    {
     "data": {
      "image/png": "[encoded data removed]",
      "text/plain": [
       "<Figure size 1080x576 with 2 Axes>"
      ]
     },
     "metadata": {},
     "output_type": "display_data"
    }
   ],
   "source": [
    "# We print our results\n",
    "sns.set(rc={'figure.figsize':(15,8)})\n",
    "prediction = knn.predict(X_test)\n",
    "true_labels = y_test\n",
    "lc_matrix = confusion_matrix(true_labels, prediction)\n",
    "lc_report = classification_report(true_labels, prediction, digits=5)\n",
    "heatmap = sns.heatmap(lc_matrix, annot=True, cmap='Blues', fmt='g', \n",
    "                      xticklabels=np.unique(true_labels), \n",
    "                      yticklabels=np.unique(true_labels)) \n",
    "\n",
    "# The heatmap is cool but this is the most important result\n",
    "print(lc_report)"
   ]
  },
  {
   "cell_type": "markdown",
   "metadata": {},
   "source": [
    "### Ridge"
   ]
  },
  {
   "cell_type": "code",
   "execution_count": 52,
   "metadata": {},
   "outputs": [
    {
     "name": "stdout",
     "output_type": "stream",
     "text": [
      "[('Benign', 97102), ('Malware', 7894)]\n"
     ]
    }
   ],
   "source": [
    "from sklearn.linear_model import RidgeClassifier\n",
    "ridge = RidgeClassifier(alpha=0.5).fit(X_train, y_train)\n",
    "print(sorted(Counter(y_train).items()))"
   ]
  },
  {
   "cell_type": "code",
   "execution_count": 53,
   "metadata": {},
   "outputs": [
    {
     "name": "stdout",
     "output_type": "stream",
     "text": [
      "              precision    recall  f1-score   support\n",
      "\n",
      "      Benign    0.94553   1.00000   0.97200     20812\n",
      "     Malware    1.00000   0.29137   0.45126      1692\n",
      "\n",
      "    accuracy                        0.94672     22504\n",
      "   macro avg    0.97276   0.64569   0.71163     22504\n",
      "weighted avg    0.94962   0.94672   0.93285     22504\n",
      "\n"
     ]
    },
    {
     "data": {
      "image/png": "[encoded data removed]",
      "text/plain": [
       "<Figure size 1080x576 with 2 Axes>"
      ]
     },
     "metadata": {},
     "output_type": "display_data"
    }
   ],
   "source": [
    "# We print our results\n",
    "sns.set(rc={'figure.figsize':(15,8)})\n",
    "prediction = ridge.predict(X_test)\n",
    "true_labels = y_test\n",
    "lc_matrix = confusion_matrix(true_labels, prediction)\n",
    "lc_report = classification_report(true_labels, prediction, digits=5)\n",
    "heatmap = sns.heatmap(lc_matrix, annot=True, cmap='Blues', fmt='g', \n",
    "                      xticklabels=np.unique(true_labels), \n",
    "                      yticklabels=np.unique(true_labels)) \n",
    "\n",
    "# The heatmap is cool but this is the most important result\n",
    "print(lc_report)"
   ]
  },
  {
   "cell_type": "markdown",
   "metadata": {},
   "source": [
    "### SVM SVC"
   ]
  },
  {
   "cell_type": "code",
   "execution_count": 54,
   "metadata": {},
   "outputs": [],
   "source": [
    "# # from sklearn import svm\n",
    "# svc = svm.SVC(gamma = 'auto')\n",
    "# svc.fit(X_train, y_train)\n",
    "# # Check data balance and variety\n",
    "# print(sorted(Counter(y_train).items()))"
   ]
  },
  {
   "cell_type": "code",
   "execution_count": 55,
   "metadata": {},
   "outputs": [],
   "source": [
    "# # We print our results\n",
    "# sns.set(rc={'figure.figsize':(15,8)})\n",
    "# prediction = svc.predict(X_test)\n",
    "# true_labels = y_test\n",
    "# lc_matrix = confusion_matrix(true_labels, prediction)\n",
    "# lc_report = classification_report(true_labels, prediction, digits=5)\n",
    "# heatmap = sns.heatmap(lc_matrix, annot=True, cmap='Blues', fmt='g', \n",
    "#                       xticklabels=np.unique(true_labels), \n",
    "#                       yticklabels=np.unique(true_labels)) \n",
    "\n",
    "# # The heatmap is cool but this is the most important result\n",
    "# print(lc_report)"
   ]
  },
  {
   "cell_type": "markdown",
   "metadata": {},
   "source": [
    "### Ada boost"
   ]
  },
  {
   "cell_type": "code",
   "execution_count": 56,
   "metadata": {},
   "outputs": [
    {
     "name": "stdout",
     "output_type": "stream",
     "text": [
      "[('Benign', 97102), ('Malware', 7894)]\n"
     ]
    }
   ],
   "source": [
    "from sklearn.ensemble import AdaBoostClassifier\n",
    "\n",
    "ada = AdaBoostClassifier(n_estimators=1000)\n",
    "ada.fit(X_train, y_train)\n",
    "# Check data balance and variety\n",
    "print(sorted(Counter(y_train).items()))"
   ]
  },
  {
   "cell_type": "code",
   "execution_count": 57,
   "metadata": {
    "scrolled": true
   },
   "outputs": [
    {
     "name": "stdout",
     "output_type": "stream",
     "text": [
      "              precision    recall  f1-score   support\n",
      "\n",
      "      Benign    0.97833   0.99995   0.98902     20812\n",
      "     Malware    0.99919   0.72754   0.84200      1692\n",
      "\n",
      "    accuracy                        0.97947     22504\n",
      "   macro avg    0.98876   0.86375   0.91551     22504\n",
      "weighted avg    0.97990   0.97947   0.97797     22504\n",
      "\n"
     ]
    },
    {
     "data": {
      "image/png": "[encoded data removed]",
      "text/plain": [
       "<Figure size 1080x576 with 2 Axes>"
      ]
     },
     "metadata": {},
     "output_type": "display_data"
    }
   ],
   "source": [
    "# We print our results\n",
    "sns.set(rc={'figure.figsize':(15,8)})\n",
    "prediction = ada.predict(X_test)\n",
    "true_labels = y_test\n",
    "lc_matrix = confusion_matrix(true_labels, prediction)\n",
    "lc_report = classification_report(true_labels, prediction, digits=5)\n",
    "heatmap = sns.heatmap(lc_matrix, annot=True, cmap='Blues', fmt='g', \n",
    "                      xticklabels=np.unique(true_labels), \n",
    "                      yticklabels=np.unique(true_labels)) \n",
    "\n",
    "# The heatmap is cool but this is the most important result\n",
    "print(lc_report)"
   ]
  },
  {
   "cell_type": "markdown",
   "metadata": {},
   "source": [
    "### Stacking"
   ]
  },
  {
   "cell_type": "code",
   "execution_count": 58,
   "metadata": {},
   "outputs": [
    {
     "name": "stdout",
     "output_type": "stream",
     "text": [
      "[('Benign', 97102), ('Malware', 7894)]\n"
     ]
    }
   ],
   "source": [
    "from sklearn.ensemble import StackingClassifier\n",
    "\n",
    "stack = StackingClassifier(estimators = [('Ada Boost', ada), ('Random forest', clf)],\n",
    "                            n_jobs = -1) \n",
    "stack.fit(X_train, y_train)\n",
    "# Check data balance and variety\n",
    "print(sorted(Counter(y_train).items()))"
   ]
  },
  {
   "cell_type": "code",
   "execution_count": 59,
   "metadata": {},
   "outputs": [
    {
     "name": "stdout",
     "output_type": "stream",
     "text": [
      "              precision    recall  f1-score   support\n",
      "\n",
      "      Benign    0.98386   0.99279   0.98831     20812\n",
      "     Malware    0.90020   0.79965   0.84695      1692\n",
      "\n",
      "    accuracy                        0.97827     22504\n",
      "   macro avg    0.94203   0.89622   0.91763     22504\n",
      "weighted avg    0.97757   0.97827   0.97768     22504\n",
      "\n"
     ]
    },
    {
     "data": {
      "image/png": "[encoded data removed]",
      "text/plain": [
       "<Figure size 1080x576 with 2 Axes>"
      ]
     },
     "metadata": {},
     "output_type": "display_data"
    }
   ],
   "source": [
    "# We print our results\n",
    "sns.set(rc={'figure.figsize':(15,8)})\n",
    "prediction = stack.predict(X_test)\n",
    "true_labels = y_test\n",
    "lc_matrix = confusion_matrix(true_labels, prediction)\n",
    "lc_report = classification_report(true_labels, prediction, digits=5)\n",
    "heatmap = sns.heatmap(lc_matrix, annot=True, cmap='Blues', fmt='g', \n",
    "                      xticklabels=np.unique(true_labels), \n",
    "                      yticklabels=np.unique(true_labels)) \n",
    "\n",
    "# The heatmap is cool but this is the most important result\n",
    "print(lc_report)"
   ]
  },
  {
   "cell_type": "markdown",
   "metadata": {},
   "source": [
    "### hard voting"
   ]
  },
  {
   "cell_type": "code",
   "execution_count": 64,
   "metadata": {},
   "outputs": [
    {
     "name": "stdout",
     "output_type": "stream",
     "text": [
      "[('Benign', 97102), ('Malware', 7894)]\n"
     ]
    }
   ],
   "source": [
    "from sklearn.ensemble import VotingClassifier\n",
    "\n",
    "vot = VotingClassifier(estimators = [('Ada Boost', ada), ('Random forest', clf)], voting='hard')\n",
    "vot.fit(X_train, y_train)\n",
    "# Check data balance and variety\n",
    "print(sorted(Counter(y_train).items()))"
   ]
  },
  {
   "cell_type": "code",
   "execution_count": 65,
   "metadata": {},
   "outputs": [
    {
     "name": "stdout",
     "output_type": "stream",
     "text": [
      "              precision    recall  f1-score   support\n",
      "\n",
      "      Benign    0.97833   1.00000   0.98905     20812\n",
      "     Malware    1.00000   0.72754   0.84229      1692\n",
      "\n",
      "    accuracy                        0.97951     22504\n",
      "   macro avg    0.98916   0.86377   0.91567     22504\n",
      "weighted avg    0.97996   0.97951   0.97801     22504\n",
      "\n"
     ]
    },
    {
     "data": {
      "image/png": "[encoded data removed]",
      "text/plain": [
       "<Figure size 1080x576 with 2 Axes>"
      ]
     },
     "metadata": {},
     "output_type": "display_data"
    }
   ],
   "source": [
    "# We print our results\n",
    "sns.set(rc={'figure.figsize':(15,8)})\n",
    "prediction = vot.predict(X_test)\n",
    "true_labels = y_test\n",
    "lc_matrix = confusion_matrix(true_labels, prediction)\n",
    "lc_report = classification_report(true_labels, prediction, digits=5)\n",
    "heatmap = sns.heatmap(lc_matrix, annot=True, cmap='Blues', fmt='g', \n",
    "                      xticklabels=np.unique(true_labels), \n",
    "                      yticklabels=np.unique(true_labels)) \n",
    "\n",
    "# The heatmap is cool but this is the most important result\n",
    "print(lc_report)"
   ]
  },
  {
   "cell_type": "markdown",
   "metadata": {},
   "source": [
    "### soft voting"
   ]
  },
  {
   "cell_type": "code",
   "execution_count": 66,
   "metadata": {},
   "outputs": [
    {
     "name": "stdout",
     "output_type": "stream",
     "text": [
      "[('Benign', 97102), ('Malware', 7894)]\n"
     ]
    }
   ],
   "source": [
    "vot_soft = VotingClassifier(estimators = [('Ada Boost', ada), ('Random forest', clf)], voting='soft')\n",
    "vot_soft.fit(X_train, y_train)\n",
    "# Check data balance and variety\n",
    "print(sorted(Counter(y_train).items()))"
   ]
  },
  {
   "cell_type": "code",
   "execution_count": 67,
   "metadata": {},
   "outputs": [
    {
     "name": "stdout",
     "output_type": "stream",
     "text": [
      "              precision    recall  f1-score   support\n",
      "\n",
      "      Benign    0.98487   0.99178   0.98832     20812\n",
      "     Malware    0.88939   0.81265   0.84929      1692\n",
      "\n",
      "    accuracy                        0.97831     22504\n",
      "   macro avg    0.93713   0.90222   0.91880     22504\n",
      "weighted avg    0.97770   0.97831   0.97786     22504\n",
      "\n"
     ]
    },
    {
     "data": {
      "image/png": "[encoded data removed]",
      "text/plain": [
       "<Figure size 1080x576 with 2 Axes>"
      ]
     },
     "metadata": {},
     "output_type": "display_data"
    }
   ],
   "source": [
    "# We print our results\n",
    "sns.set(rc={'figure.figsize':(15,8)})\n",
    "prediction = vot_soft.predict(X_test)\n",
    "true_labels = y_test\n",
    "lc_matrix = confusion_matrix(true_labels, prediction)\n",
    "lc_report = classification_report(true_labels, prediction, digits=5)\n",
    "heatmap = sns.heatmap(lc_matrix, annot=True, cmap='Blues', fmt='g', \n",
    "                      xticklabels=np.unique(true_labels), \n",
    "                      yticklabels=np.unique(true_labels)) \n",
    "\n",
    "# The heatmap is cool but this is the most important result\n",
    "print(lc_report)"
   ]
  },
  {
   "cell_type": "code",
   "execution_count": null,
   "metadata": {},
   "outputs": [],
   "source": []
  }
 ],
 "metadata": {
  "kernelspec": {
   "display_name": "Python 3",
   "language": "python",
   "name": "python3"
  },
  "language_info": {
   "codemirror_mode": {
    "name": "ipython",
    "version": 3
   },
   "file_extension": ".py",
   "mimetype": "text/x-python",
   "name": "python",
   "nbconvert_exporter": "python",
   "pygments_lexer": "ipython3",
   "version": "3.8.3"
  }
 },
 "nbformat": 4,
 "nbformat_minor": 5
}
